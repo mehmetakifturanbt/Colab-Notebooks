{
 "cells": [
  {
   "cell_type": "code",
   "execution_count": 1,
   "metadata": {},
   "outputs": [
    {
     "name": "stdout",
     "output_type": "stream",
     "text": [
      "Python Kursu\n"
     ]
    }
   ],
   "source": [
    "print(\"Python Kursu\")"
   ]
  },
  {
   "cell_type": "code",
   "execution_count": 3,
   "metadata": {},
   "outputs": [
    {
     "name": "stdout",
     "output_type": "stream",
     "text": [
      "Merhaba Dünya\n"
     ]
    }
   ],
   "source": [
    "print(\"Merhaba\"+\" \"+\"Dünya\")"
   ]
  },
  {
   "cell_type": "code",
   "execution_count": 4,
   "metadata": {},
   "outputs": [
    {
     "name": "stdout",
     "output_type": "stream",
     "text": [
      "Merhaba UNX Academy\n"
     ]
    }
   ],
   "source": [
    "print(\"Merhaba\",\"UNX\",\"Academy\",sep=\" \")"
   ]
  },
  {
   "cell_type": "code",
   "execution_count": 32,
   "metadata": {},
   "outputs": [
    {
     "name": "stdout",
     "output_type": "stream",
     "text": [
      "Merhaba-UNX-Academy\n"
     ]
    }
   ],
   "source": [
    "print(\"Merhaba\",\"UNX\",\"Academy\",sep=\"-\")\n",
    "# sep parametresi virgül ile ayrılan ifadeler arasına eklenecektir"
   ]
  },
  {
   "cell_type": "code",
   "execution_count": 6,
   "metadata": {},
   "outputs": [
    {
     "name": "stdout",
     "output_type": "stream",
     "text": [
      "Merhaba  Onur\n"
     ]
    }
   ],
   "source": [
    "ad = \"Onur\"\n",
    "print(\"Merhaba\",ad)\n",
    "#print(\"Merhaba\"+ad) şeklinde yazarsanız merhaba'dan sonra bir boşluk bırakmanız gerekecektir"
   ]
  },
  {
   "cell_type": "code",
   "execution_count": 8,
   "metadata": {},
   "outputs": [
    {
     "name": "stdout",
     "output_type": "stream",
     "text": [
      "Lütfen adınızı yazın: 123\n",
      "<class 'str'>\n"
     ]
    }
   ],
   "source": [
    "ad = input(\"Lütfen adınızı yazın: \")\n",
    "print(type(ad))\n",
    "#input ile gelen her değer string olacaktır\n",
    "# farklı tipler için tür dönüşümü yapmak gerekmekte"
   ]
  },
  {
   "cell_type": "code",
   "execution_count": 10,
   "metadata": {},
   "outputs": [
    {
     "name": "stdout",
     "output_type": "stream",
     "text": [
      "Lütfen ilk sayıyı girin: 12\n",
      "Lütfen ikinci sayıyı girin: 34\n",
      "Sayıların toplamı 46\n"
     ]
    }
   ],
   "source": [
    "sayi1 = int(input(\"Lütfen ilk sayıyı girin: \"))\n",
    "sayi2 = int(input(\"Lütfen ikinci sayıyı girin: \"))\n",
    "# int ifadesi string yani metin değerini integer yani tam sayıya dönüştürmektedir\n",
    "toplam = sayi1+sayi2\n",
    "print(\"Sayıların toplamı\",toplam)"
   ]
  },
  {
   "cell_type": "code",
   "execution_count": 11,
   "metadata": {},
   "outputs": [
    {
     "name": "stdout",
     "output_type": "stream",
     "text": [
      "UNX UNX UNX \n"
     ]
    }
   ],
   "source": [
    "print(\"UNX \"*3)"
   ]
  },
  {
   "cell_type": "code",
   "execution_count": 12,
   "metadata": {},
   "outputs": [
    {
     "name": "stdout",
     "output_type": "stream",
     "text": [
      "Lütfen ilk sayıyı girin: a\n"
     ]
    },
    {
     "ename": "ValueError",
     "evalue": "invalid literal for int() with base 10: 'a'",
     "output_type": "error",
     "traceback": [
      "\u001b[0;31m---------------------------------------------------------------------------\u001b[0m",
      "\u001b[0;31mValueError\u001b[0m                                Traceback (most recent call last)",
      "\u001b[0;32m<ipython-input-12-95d49a51a293>\u001b[0m in \u001b[0;36m<module>\u001b[0;34m\u001b[0m\n\u001b[0;32m----> 1\u001b[0;31m \u001b[0msayi1\u001b[0m \u001b[0;34m=\u001b[0m \u001b[0mint\u001b[0m\u001b[0;34m(\u001b[0m\u001b[0minput\u001b[0m\u001b[0;34m(\u001b[0m\u001b[0;34m\"Lütfen ilk sayıyı girin: \"\u001b[0m\u001b[0;34m)\u001b[0m\u001b[0;34m)\u001b[0m\u001b[0;34m\u001b[0m\u001b[0;34m\u001b[0m\u001b[0m\n\u001b[0m\u001b[1;32m      2\u001b[0m \u001b[0msayi2\u001b[0m \u001b[0;34m=\u001b[0m \u001b[0mint\u001b[0m\u001b[0;34m(\u001b[0m\u001b[0minput\u001b[0m\u001b[0;34m(\u001b[0m\u001b[0;34m\"Lütfen ikinci sayıyı girin: \"\u001b[0m\u001b[0;34m)\u001b[0m\u001b[0;34m)\u001b[0m\u001b[0;34m\u001b[0m\u001b[0;34m\u001b[0m\u001b[0m\n\u001b[1;32m      3\u001b[0m \u001b[0mtoplam\u001b[0m \u001b[0;34m=\u001b[0m \u001b[0msayi1\u001b[0m\u001b[0;34m+\u001b[0m\u001b[0msayi2\u001b[0m\u001b[0;34m\u001b[0m\u001b[0;34m\u001b[0m\u001b[0m\n\u001b[1;32m      4\u001b[0m \u001b[0mprint\u001b[0m\u001b[0;34m(\u001b[0m\u001b[0;34m\"Sayıların toplamı\"\u001b[0m\u001b[0;34m,\u001b[0m\u001b[0mtoplam\u001b[0m\u001b[0;34m)\u001b[0m\u001b[0;34m\u001b[0m\u001b[0;34m\u001b[0m\u001b[0m\n",
      "\u001b[0;31mValueError\u001b[0m: invalid literal for int() with base 10: 'a'"
     ]
    }
   ],
   "source": [
    "sayi1 = int(input(\"Lütfen ilk sayıyı girin: \"))\n",
    "sayi2 = int(input(\"Lütfen ikinci sayıyı girin: \"))\n",
    "toplam = sayi1+sayi2\n",
    "print(\"Sayıların toplamı\",toplam)\n",
    "#eğer kullanıcı input ifadesinde sayısal olmayan bir değer yazarsa\n",
    "# sayısal olmayan değer tam sayıya dönüştürülemeyeceğinden hata verir"
   ]
  },
  {
   "cell_type": "code",
   "execution_count": 14,
   "metadata": {},
   "outputs": [],
   "source": [
    "# Toplama X + Y\n",
    "# Çıkarma X - Y\n",
    "# Çarpma X * Y\n",
    "# Bölme X / Y\n",
    "# Bölümü tam sayı alma X // Y\n",
    "# Bölümden Kalan X % Y\n",
    "# Üst işlemi X ** Y"
   ]
  },
  {
   "cell_type": "code",
   "execution_count": 15,
   "metadata": {},
   "outputs": [
    {
     "name": "stdout",
     "output_type": "stream",
     "text": [
      "6\n"
     ]
    }
   ],
   "source": [
    "# Bölümü tam sayı alma\n",
    "x = 13\n",
    "y = 2\n",
    "bolum = x // y\n",
    "print(bolum)"
   ]
  },
  {
   "cell_type": "code",
   "execution_count": 16,
   "metadata": {},
   "outputs": [
    {
     "name": "stdout",
     "output_type": "stream",
     "text": [
      "1\n"
     ]
    }
   ],
   "source": [
    "# Bölümden kalan\n",
    "x = 13\n",
    "y = 2\n",
    "kalan = x % y\n",
    "print(kalan)"
   ]
  },
  {
   "cell_type": "code",
   "execution_count": 17,
   "metadata": {},
   "outputs": [
    {
     "name": "stdout",
     "output_type": "stream",
     "text": [
      "169\n"
     ]
    }
   ],
   "source": [
    "# Üst işlemi\n",
    "x = 13\n",
    "y = 2\n",
    "ust = x ** y\n",
    "print(ust)"
   ]
  },
  {
   "cell_type": "code",
   "execution_count": 18,
   "metadata": {},
   "outputs": [],
   "source": [
    "# Mantıksal İfadeler\n",
    "# > Büyüktür\n",
    "# < Küçüktür\n",
    "# >= Büyük eşittir\n",
    "# <= Küçük eşittir\n",
    "# != Eşit değildir\n",
    "# == Eşittir "
   ]
  },
  {
   "cell_type": "code",
   "execution_count": 19,
   "metadata": {},
   "outputs": [],
   "source": [
    "# ŞART İFADELERİ\n",
    "# if şart_ifadesi:\n",
    "#      Şart doğru ise yapılacaklar"
   ]
  },
  {
   "cell_type": "code",
   "execution_count": 24,
   "metadata": {},
   "outputs": [
    {
     "name": "stdout",
     "output_type": "stream",
     "text": [
      "Şart ifadesi\n",
      "x değeri 1den büyüktür\n",
      "10\n",
      "if bitti\n"
     ]
    }
   ],
   "source": [
    "x = 10\n",
    "print(\"Şart ifadesi\")\n",
    "if x > 1:\n",
    "    print(\"x değeri 1den büyüktür\")\n",
    "    print(x)\n",
    "print(\"if bitti\")\n",
    "\n"
   ]
  },
  {
   "cell_type": "code",
   "execution_count": 22,
   "metadata": {},
   "outputs": [
    {
     "name": "stdout",
     "output_type": "stream",
     "text": [
      "Şart ifadesi\n",
      "if bitti\n"
     ]
    }
   ],
   "source": [
    "x = 10\n",
    "print(\"Şart ifadesi\")\n",
    "if x < 1:\n",
    "    print(\"x değeri 1den küçüktür\")\n",
    "    print(x)\n",
    "print(\"if bitti\")\n"
   ]
  },
  {
   "cell_type": "code",
   "execution_count": 25,
   "metadata": {},
   "outputs": [
    {
     "name": "stdout",
     "output_type": "stream",
     "text": [
      "Şart ifadesi\n",
      "x değeri 1den büyüktür\n",
      "if bitti\n"
     ]
    }
   ],
   "source": [
    "x = 10\n",
    "print(\"Şart ifadesi\")\n",
    "if x < 1:\n",
    "    # şart doğru ise yapılacak işlemler\n",
    "    print(\"x değeri 1den küçüktür\")\n",
    "else:\n",
    "    # şart doğru değilse yapılacak işlemler\n",
    "    print(\"x değeri 1den büyüktür\")\n",
    "print(\"if bitti\")"
   ]
  },
  {
   "cell_type": "code",
   "execution_count": 27,
   "metadata": {},
   "outputs": [
    {
     "name": "stdout",
     "output_type": "stream",
     "text": [
      "Şart ifadesi\n",
      "x değeri 1e eşittir\n",
      "if bitti\n"
     ]
    }
   ],
   "source": [
    "x = 1\n",
    "print(\"Şart ifadesi\")\n",
    "if x < 1:\n",
    "    print(\"x değeri 1den küçüktür\")\n",
    "elif x > 1:\n",
    "    # elif ifadesinin açılımı else-if aslında değilse eğer demektir\n",
    "    # if içerisinde birden fazla şart yazmak için kullanıyoruz\n",
    "    print(\"x değeri 1den büyüktür\")\n",
    "else:\n",
    "    print(\"x değeri 1e eşittir\")\n",
    "print(\"if bitti\")"
   ]
  },
  {
   "cell_type": "code",
   "execution_count": 38,
   "metadata": {},
   "outputs": [
    {
     "name": "stdout",
     "output_type": "stream",
     "text": [
      "Lütfen puanınızı girin (0-100): 55\n",
      "Notunuz 3\n"
     ]
    }
   ],
   "source": [
    "# 100lük sistemdeki puanı 5lik sisteme dönüştürme\n",
    "# ve ifadesi için and veya &\n",
    "# veya ifadesi için or veya |\n",
    "\n",
    "puanDegeri = int(input(\"Lütfen puanınızı girin (0-100): \"))\n",
    "\n",
    "if puanDegeri > 100 or puanDegeri < 0 :\n",
    "    print(\"Puan değeri 0-100 aralığında olmalıdır\")\n",
    "elif puanDegeri >= 0 and puanDegeri < 45:\n",
    "    print(\"Notunuz 1\")\n",
    "elif puanDegeri >= 45 and puanDegeri < 55:\n",
    "    print(\"Notunuz 2\")\n",
    "elif puanDegeri >= 55 and puanDegeri <70:\n",
    "    print(\"Notunuz 3\")\n",
    "elif puanDegeri >= 70 and puanDegeri < 85:\n",
    "    print(\"Notunuz 4\")\n",
    "else:\n",
    "    print(\"Notunuz 5\")\n"
   ]
  },
  {
   "cell_type": "code",
   "execution_count": 40,
   "metadata": {},
   "outputs": [
    {
     "name": "stdout",
     "output_type": "stream",
     "text": [
      "Lütfen bir sayı girin: 22\n",
      "Çift sayıdır\n"
     ]
    }
   ],
   "source": [
    "# sayı çift mi tek mi\n",
    "\n",
    "sayi = int(input(\"Lütfen bir sayı girin: \"))\n",
    "if sayi % 2 == 0:\n",
    "    print(\"Çift sayıdır\")\n",
    "else:\n",
    "    print(\"Tek sayıdır\")\n"
   ]
  },
  {
   "cell_type": "code",
   "execution_count": 56,
   "metadata": {},
   "outputs": [
    {
     "name": "stdout",
     "output_type": "stream",
     "text": [
      "Lütfen ilk sayıyı girin: 10\n",
      "Lütfen ikinci sayıyı girin: 10\n",
      "Lütfen yapılacak işlemi seçin Topla=T, Çıkar=F, Çarp=C, Bölme=B y\n",
      "Sonuç: 0\n"
     ]
    }
   ],
   "source": [
    "# basit bir hesap makinesi\n",
    "\n",
    "sayi1 = int(input(\"Lütfen ilk sayıyı girin: \"))\n",
    "sayi2 = int(input(\"Lütfen ikinci sayıyı girin: \"))\n",
    "islem = input(\"Lütfen yapılacak işlemi seçin Topla=T, Çıkar=F, Çarp=C, Bölme=B \")\n",
    "sonuc = 0 \n",
    "if (islem == \"T\") | (islem == \"t\"): # | yerine or yazılabilir\n",
    "    sonuc = sayi1 + sayi2\n",
    "elif islem == \"F\" or islem == \"f\":\n",
    "    sonuc = sayi1 - sayi2\n",
    "elif islem == \"C\" or islem == \"c\":\n",
    "    sonuc = sayi1 * sayi2\n",
    "elif islem == \"B\" or islem == \"b\":\n",
    "    if sayi1 == 0 and sayi2 == 0:\n",
    "        sonuc = \"0/0 durumu\"\n",
    "    elif sayi2 == 0:  # elif sayi1 != 0 and sayi2 == 0:\n",
    "        sonuc = \"Sayının 0a bölümü tanımsızdır\"\n",
    "    else:\n",
    "        sonuc = sayi1 / sayi2\n",
    "print(\"Sonuç:\", sonuc)"
   ]
  },
  {
   "cell_type": "code",
   "execution_count": null,
   "metadata": {},
   "outputs": [],
   "source": [
    "puanDegeri = int(input(\"Lütfen 0-100 aralığında puan değerinizi girin: \"))\n",
    "\n",
    "if (puanDegeri <0) or (puanDegeri>100):\n",
    "    print(\"Puan değeriniz 0-100 aralığında olmalı\")\n",
    "else:\n",
    "    if puanDegeri >= 0 and puanDegeri < 45:\n",
    "        print(\"Notunuz 1\")\n",
    "    elif puanDegeri >= 45 and puanDegeri < 55:\n",
    "        print(\"Notunuz 2\")\n",
    "    elif puanDegeri >= 55 and puanDegeri < 70:\n",
    "        print(\"Notunuz 3\")\n",
    "    elif puanDegeri >= 70 and puanDegeri < 85:\n",
    "        print(\"Notunuz 4\")\n",
    "    else:\n",
    "        print(\"Notunuz 5\")\n",
    "        \n",
    "## "
   ]
  },
  {
   "cell_type": "code",
   "execution_count": 57,
   "metadata": {},
   "outputs": [],
   "source": [
    "# try:\n",
    "#    denenecek kodları\n",
    "# except:\n",
    "#.    hata tespit edildi ise yapılacaklar\n",
    "# finally:\n",
    "#.    kod tamamlandığında yapılacaklar"
   ]
  },
  {
   "cell_type": "code",
   "execution_count": 69,
   "metadata": {},
   "outputs": [
    {
     "name": "stdout",
     "output_type": "stream",
     "text": [
      "Lütfen 0-100 aralığında puan değerinizi girin: 101\n",
      "Puan değeri 0-100 aralığında olmalıdır\n",
      "Lütfen 0-100 aralığında puan değerinizi girin: 100\n",
      "Puan değeri:  100\n"
     ]
    }
   ],
   "source": [
    "while True:\n",
    "    deger = input(\"Lütfen 0-100 aralığında puan değerinizi girin: \") \n",
    "    try:\n",
    "        puanDegeri = int(deger)\n",
    "        if puanDegeri <0 or puanDegeri > 100:\n",
    "            print(\"Puan değeri 0-100 aralığında olmalıdır\")\n",
    "        else:\n",
    "            print(\"Puan değeri: \", puanDegeri)\n",
    "            break\n",
    "    except:\n",
    "        print(\"Lütfen sayı değeri girin\")\n",
    "\n"
   ]
  },
  {
   "cell_type": "code",
   "execution_count": 71,
   "metadata": {},
   "outputs": [
    {
     "name": "stdout",
     "output_type": "stream",
     "text": [
      "1\n",
      "2\n",
      "3\n",
      "4\n",
      "5\n",
      "6\n",
      "7\n",
      "8\n",
      "9\n"
     ]
    }
   ],
   "source": [
    "deger = 1\n",
    "while deger < 10: # deger < 10 ifadesi True mu False mu\n",
    "    print(deger)\n",
    "    deger = deger + 1"
   ]
  },
  {
   "cell_type": "code",
   "execution_count": 1,
   "metadata": {},
   "outputs": [
    {
     "name": "stdout",
     "output_type": "stream",
     "text": [
      "Lütfen 0-100 aralığında bir sayı girin: a\n",
      "Lütfen belirtilen aralıkta bir sayı değeri girin\n",
      "Lütfen 0-100 aralığında bir sayı girin: 10\n"
     ]
    }
   ],
   "source": [
    "while True:\n",
    "    try:\n",
    "        puanDegeri = int(input(\"Lütfen 0-100 aralığında bir sayı girin: \")) # int('a')\n",
    "        break # eğer önceki satır hata vermiyor ise break komutu while döngüsünü sonlandıracaktır\n",
    "    except:\n",
    "        print(\"Lütfen belirtilen aralıkta bir sayı değeri girin\")"
   ]
  },
  {
   "cell_type": "code",
   "execution_count": 2,
   "metadata": {},
   "outputs": [
    {
     "name": "stdout",
     "output_type": "stream",
     "text": [
      "Lütfen 0-100 aralığında bir sayı girin: a\n",
      "Lütfen belirtilen aralıkta bir sayı değeri girin\n",
      "Lütfen 0-100 aralığında bir sayı girin: 101\n",
      "Lütfen 0-100 aralığında bir sayı değeri girin\n",
      "Lütfen 0-100 aralığında bir sayı girin: 100\n",
      "Puan Değeri:  100\n"
     ]
    }
   ],
   "source": [
    "while True:\n",
    "    try:\n",
    "        puanDegeri = int(input(\"Lütfen 0-100 aralığında bir sayı girin: \")) # int('a')\n",
    "        if puanDegeri < 0 or puanDegeri > 100:\n",
    "            print(\"Lütfen 0-100 aralığında bir sayı değeri girin\")\n",
    "        else:\n",
    "            print(\"Puan Değeri: \", puanDegeri)\n",
    "            break\n",
    "    except:\n",
    "        print(\"Lütfen belirtilen aralıkta bir sayı değeri girin\")"
   ]
  },
  {
   "cell_type": "code",
   "execution_count": 3,
   "metadata": {},
   "outputs": [
    {
     "name": "stdout",
     "output_type": "stream",
     "text": [
      "Lütfen 0-100 aralığında bir sayı girin: a\n",
      "Lütfen belirtilen aralıkta bir sayı değeri girin\n",
      "Lütfen 0-100 aralığında bir sayı girin: 120\n",
      "Lütfen 0-100 aralığında bir sayı değeri girin\n",
      "Lütfen 0-100 aralığında bir sayı girin: -10\n",
      "Lütfen 0-100 aralığında bir sayı değeri girin\n",
      "Lütfen 0-100 aralığında bir sayı girin: 90\n",
      "Notunuz 5\n"
     ]
    }
   ],
   "source": [
    "while True:\n",
    "    try:\n",
    "        puanDegeri = int(input(\"Lütfen 0-100 aralığında bir sayı girin: \")) \n",
    "        if puanDegeri < 0 or puanDegeri > 100:\n",
    "            print(\"Lütfen 0-100 aralığında bir sayı değeri girin\")\n",
    "        else:\n",
    "            if puanDegeri >=0 and puanDegeri < 45:\n",
    "                print(\"Notunuz 1\")\n",
    "                break\n",
    "            elif puanDegeri >= 45 and puanDegeri < 55:\n",
    "                print(\"Notunuz 2\")\n",
    "                break\n",
    "            elif puanDegeri >= 55 and puanDegeri < 70:\n",
    "                print(\"Notunuz 3\")\n",
    "                break\n",
    "            elif puanDegeri >= 70 and puanDegeri < 85:\n",
    "                print(\"Notunuz 4\")\n",
    "                break\n",
    "            else:\n",
    "                print(\"Notunuz 5\")\n",
    "                break\n",
    "    except:\n",
    "        print(\"Lütfen belirtilen aralıkta bir sayı değeri girin\")"
   ]
  },
  {
   "cell_type": "code",
   "execution_count": null,
   "metadata": {},
   "outputs": [],
   "source": [
    "# üstteki örneğin tek break ile yazılışı\n",
    "while True:\n",
    "    try:\n",
    "        puanDegeri = int(input(\"Lütfen 0-100 aralığında bir sayı girin: \")) \n",
    "        if puanDegeri < 0 or puanDegeri > 100:\n",
    "            print(\"Lütfen 0-100 aralığında bir sayı değeri girin\")\n",
    "        else:\n",
    "            if puanDegeri >=0 and puanDegeri < 45:\n",
    "                print(\"Notunuz 1\")\n",
    "                #break\n",
    "            elif puanDegeri >= 45 and puanDegeri < 55:\n",
    "                print(\"Notunuz 2\")\n",
    "                #break\n",
    "            elif puanDegeri >= 55 and puanDegeri < 70:\n",
    "                print(\"Notunuz 3\")\n",
    "                #break\n",
    "            elif puanDegeri >= 70 and puanDegeri < 85:\n",
    "                print(\"Notunuz 4\")\n",
    "                #break\n",
    "            else:\n",
    "                print(\"Notunuz 5\")\n",
    "            break\n",
    "    except:\n",
    "        print(\"Lütfen belirtilen aralıkta bir sayı değeri girin\")"
   ]
  },
  {
   "cell_type": "code",
   "execution_count": 1,
   "metadata": {},
   "outputs": [
    {
     "name": "stdout",
     "output_type": "stream",
     "text": [
      "Lütfen 0-100 aralığında bir sayı girin (çıkış için Q): a\n",
      "Lütfen belirtilen aralıkta bir sayı değeri girin\n",
      "Lütfen 0-100 aralığında bir sayı girin (çıkış için Q): 120\n",
      "Lütfen 0-100 aralığında bir sayı değeri girin\n",
      "Lütfen 0-100 aralığında bir sayı girin (çıkış için Q): 90\n",
      "Notunuz 5\n",
      "Lütfen 0-100 aralığında bir sayı girin (çıkış için Q): 70\n",
      "Notunuz 4\n",
      "Lütfen 0-100 aralığında bir sayı girin (çıkış için Q): q\n",
      "Program sonlandırıldı\n"
     ]
    }
   ],
   "source": [
    "# biz sonlandırana kadar devam etsin\n",
    "while True:\n",
    "    try:\n",
    "        deger = input(\"Lütfen 0-100 aralığında bir sayı girin (çıkış için Q): \")\n",
    "        if deger == \"q\" or deger == \"Q\":\n",
    "            print(\"Program sonlandırıldı\")\n",
    "            break\n",
    "        puanDegeri = int(deger) \n",
    "        if puanDegeri < 0 or puanDegeri > 100:\n",
    "            print(\"Lütfen 0-100 aralığında bir sayı değeri girin\")\n",
    "        else:\n",
    "            if puanDegeri >=0 and puanDegeri < 45:\n",
    "                print(\"Notunuz 1\")\n",
    "            elif puanDegeri >= 45 and puanDegeri < 55:\n",
    "                print(\"Notunuz 2\")\n",
    "            elif puanDegeri >= 55 and puanDegeri < 70:\n",
    "                print(\"Notunuz 3\")\n",
    "            elif puanDegeri >= 70 and puanDegeri < 85:\n",
    "                print(\"Notunuz 4\")\n",
    "            else:\n",
    "                print(\"Notunuz 5\")\n",
    "    except:\n",
    "        print(\"Lütfen belirtilen aralıkta bir sayı değeri girin\")"
   ]
  },
  {
   "cell_type": "code",
   "execution_count": 4,
   "metadata": {},
   "outputs": [
    {
     "name": "stdout",
     "output_type": "stream",
     "text": [
      "False\n"
     ]
    }
   ],
   "source": [
    "deger = \"A\"\n",
    "print(bool(deger==\"Q\" or deger==\"q\"))\n",
    "\n",
    "# bool komutu içerisindeki ifadenin Doğru mu Yanlış mı olduğunu kontrol eder\n",
    "# eğer ifade doğru ise True, değilse False değeri döner"
   ]
  },
  {
   "cell_type": "code",
   "execution_count": 5,
   "metadata": {},
   "outputs": [
    {
     "name": "stdout",
     "output_type": "stream",
     "text": [
      "True\n"
     ]
    }
   ],
   "source": [
    "deger = \"Q\"\n",
    "print(bool(deger==\"Q\" or deger==\"q\"))"
   ]
  },
  {
   "cell_type": "code",
   "execution_count": 6,
   "metadata": {},
   "outputs": [],
   "source": [
    "#DÖNGÜLER"
   ]
  },
  {
   "cell_type": "markdown",
   "metadata": {},
   "source": [
    "Mantıksal Operatörler\n",
    "> Büyüktür\n",
    "< Küçüktür\n",
    ">= Büyük Eşittir\n",
    "<= Küçük Eşittir\n",
    "== Eşittir\n",
    "!= Eşit Değiltir\n",
    "in Mevcut\n",
    "is Değer mevcut\n",
    "\n",
    "Bilgi notu: deger değişkeni ilk değeri 10\n",
    "Atama Operatörleri\n",
    " = sağdaki değeri, soldaki değişkene aktarır\n",
    " deger = 5  # deger değişkeni artık 5 değerindedir\n",
    " \n",
    " += soldaki değişkeni sağdaki değer kadar arttırır\n",
    " deger += 5  # deger değişkeni artık 15 değerindedir\n",
    " \n",
    " -= soldaki değişkeni sağdaki değer kadar azaltır\n",
    " deger -= 4  # deger değişkeni artık 6 değerindedir\n",
    " \n",
    " *= soldaki değişkeni sağdaki ile çarpar ve yeni değer olarak atar\n",
    " deger *= 2  # deger değişkeni artık 20 değerindedir\n",
    " \n",
    " /= soldaki değişkeni sağdakine böler ve yeni değer olarak atar\n",
    " deger /= 5  # deger değişkeni artık 2 değerindedir\n",
    " \n",
    " \n",
    " **= soldaki değişkenin sağdaki değere göre üst değerini alır\n",
    " deger **= 2  # deger değişkeni artık 100 değerindedir\n",
    " \n",
    " //= soldaki değişkeni sağdaki değere böler sonucu tam sayı olarak atar\n",
    " deger //= 3  # deger değişkeni artık 3 değerindedir\n",
    " \n",
    " %= soldaki değeri sağdakine böler ve kalanı değişkene yeni değer olarak atar\n",
    " deger %= 3  # deger değişkeni artık 1 değerindedir\n",
    " \n",
    " Bitwise operatörleri\n",
    " <<= Bit değerini sağdaki değer kadar solda kaydırır\n",
    " >>= Bir değerini sağdaki değer kadar sağa kaydırır\n",
    " \n",
    " &= AND uygulayarak ata\n",
    " |= OR uygulayarak ata\n",
    " ^= XOR uygulayarak ata\n",
    " \n",
    " "
   ]
  },
  {
   "cell_type": "code",
   "execution_count": null,
   "metadata": {},
   "outputs": [],
   "source": [
    "# while şartımız:\n",
    "#    şart doğru olduğu sürece yapılacak işlemler\n",
    "\n",
    "while True:\n",
    "    print(\"a\")\n",
    "    # ancak break kullanılmaz ise bu kod sonlandırma içermediğinden sonsuz döngüye girmiş olacaktır\n",
    "    break"
   ]
  },
  {
   "cell_type": "code",
   "execution_count": 8,
   "metadata": {},
   "outputs": [
    {
     "name": "stdout",
     "output_type": "stream",
     "text": [
      "Lütfen bir sayı değeri girin10\n",
      "1\n",
      "2\n",
      "3\n",
      "4\n",
      "5\n",
      "6\n",
      "7\n",
      "8\n",
      "9\n",
      "10\n"
     ]
    }
   ],
   "source": [
    "# kullanıcının girdiği sayıya kadar 1den başlayarak tüm sayıları ekrana yazdıralım\n",
    "\n",
    "sayi = int(input(\"Lütfen bir sayı değeri girin\"))\n",
    "i = 1\n",
    "while i <= sayi:\n",
    "    print(i)\n",
    "    i+=1"
   ]
  },
  {
   "cell_type": "code",
   "execution_count": 9,
   "metadata": {},
   "outputs": [
    {
     "name": "stdout",
     "output_type": "stream",
     "text": [
      "Lütfen bir sayı değeri girin10\n",
      "1\n",
      "3\n",
      "5\n",
      "7\n",
      "9\n"
     ]
    }
   ],
   "source": [
    "# ikişer ikişer arttırsın\n",
    "sayi = int(input(\"Lütfen bir sayı değeri girin\"))\n",
    "i = 1\n",
    "while i <= sayi:\n",
    "    print(i)\n",
    "    i+=2"
   ]
  },
  {
   "cell_type": "code",
   "execution_count": 11,
   "metadata": {},
   "outputs": [
    {
     "name": "stdout",
     "output_type": "stream",
     "text": [
      "Lütfen bir sayı değeri girin100\n",
      "1\n",
      "2\n",
      "4\n",
      "8\n",
      "16\n",
      "32\n",
      "64\n"
     ]
    }
   ],
   "source": [
    "# katlanarak arttırsın\n",
    "sayi = int(input(\"Lütfen bir sayı değeri girin\"))\n",
    "i = 1\n",
    "while i <= sayi:\n",
    "    print(i)\n",
    "    i*=2"
   ]
  },
  {
   "cell_type": "code",
   "execution_count": 12,
   "metadata": {},
   "outputs": [
    {
     "name": "stdout",
     "output_type": "stream",
     "text": [
      "Lütfen bir sayı değeri girin10\n",
      "1\n",
      "2\n",
      "3\n"
     ]
    }
   ],
   "source": [
    "# kullanıcının girdiği sayıya kadar 1den başlayarak tüm sayıları ekrana yazdıralım\n",
    "\n",
    "sayi = int(input(\"Lütfen bir sayı değeri girin\"))\n",
    "i = 1\n",
    "while i <= sayi:\n",
    "    print(i)\n",
    "    if(i==3):\n",
    "        break\n",
    "    i+=1"
   ]
  },
  {
   "cell_type": "code",
   "execution_count": 13,
   "metadata": {},
   "outputs": [
    {
     "name": "stdout",
     "output_type": "stream",
     "text": [
      "Lütfen başlama değerini girin: 10\n",
      "Lütfen bitiş değerini girin: 25\n",
      "Lütfen artış değerini girin: 2\n",
      "10\n",
      "12\n",
      "14\n",
      "16\n",
      "18\n",
      "20\n",
      "22\n",
      "24\n"
     ]
    }
   ],
   "source": [
    "# kullanıcının girdiği başlama, bitiş ve artış değerine göre\n",
    "# sayıları ekrana yazdıran kod\n",
    "\n",
    "baslama = int(input(\"Lütfen başlama değerini girin: \"))\n",
    "bitis = int(input(\"Lütfen bitiş değerini girin: \"))\n",
    "artis = int(input(\"Lütfen artış değerini girin: \"))\n",
    "while baslama <= bitis:\n",
    "    print(baslama)\n",
    "    baslama += artis"
   ]
  },
  {
   "cell_type": "code",
   "execution_count": 14,
   "metadata": {},
   "outputs": [
    {
     "name": "stdout",
     "output_type": "stream",
     "text": [
      "Lütfen başlama değerini girin: 10\n",
      "Lütfen bitiş değerini girin: 50\n",
      "Lütfen artış değerini girin: 3\n",
      "Kaç sayı yazılsın: 5\n",
      "10\n",
      "13\n",
      "16\n",
      "19\n",
      "22\n"
     ]
    }
   ],
   "source": [
    "# kullanıcının girdiği başlama, bitiş ve artış değerine göre\n",
    "# belirli bir adet sayıyı ekrana yazdıran kod\n",
    "\n",
    "baslama = int(input(\"Lütfen başlama değerini girin: \"))\n",
    "bitis = int(input(\"Lütfen bitiş değerini girin: \"))\n",
    "artis = int(input(\"Lütfen artış değerini girin: \"))\n",
    "sayiAdedi = int(input(\"Kaç sayı yazılsın: \"))\n",
    "i=0\n",
    "while baslama <= bitis:\n",
    "    print(baslama)\n",
    "    i+=1\n",
    "    if sayiAdedi == i :\n",
    "        break\n",
    "    baslama += artis"
   ]
  },
  {
   "cell_type": "code",
   "execution_count": 15,
   "metadata": {},
   "outputs": [
    {
     "name": "stdout",
     "output_type": "stream",
     "text": [
      "True\n"
     ]
    }
   ],
   "source": [
    "print(bool(\"a\" in \"ankara\"))"
   ]
  },
  {
   "cell_type": "code",
   "execution_count": null,
   "metadata": {},
   "outputs": [],
   "source": [
    "while True --> while \"a\" in \"ankara\""
   ]
  },
  {
   "cell_type": "code",
   "execution_count": null,
   "metadata": {},
   "outputs": [],
   "source": [
    "#FOR Döngüsü\n",
    "\n",
    "for parametre:\n",
    "    döndü süresince çalışacak kodlar"
   ]
  },
  {
   "cell_type": "code",
   "execution_count": 16,
   "metadata": {},
   "outputs": [
    {
     "name": "stdout",
     "output_type": "stream",
     "text": [
      "a\n",
      "n\n",
      "k\n",
      "a\n",
      "r\n",
      "a\n"
     ]
    }
   ],
   "source": [
    "# python'da herşey nesnedir, \"ankara\" ifadesi de nesne olarak döngüye girecektir\n",
    "# aşağıdaki gibi bir kodda ankara ifadesindeki harf sayısı kadar döngü gerçekleşecektir\n",
    "# her bir döngüde baştan itibaren sıradaki harfi, harf değişkenine aktarmaktadır\n",
    "\n",
    "for harf in \"ankara\":\n",
    "    print(harf)"
   ]
  },
  {
   "cell_type": "code",
   "execution_count": null,
   "metadata": {},
   "outputs": [],
   "source": [
    "deger = \"ankara\"\n",
    "for harf in deger:\n",
    "    print(harf)"
   ]
  },
  {
   "cell_type": "code",
   "execution_count": 20,
   "metadata": {},
   "outputs": [
    {
     "name": "stdout",
     "output_type": "stream",
     "text": [
      "Help on built-in function print in module builtins:\n",
      "\n",
      "print(...)\n",
      "    print(value, ..., sep=' ', end='\\n', file=sys.stdout, flush=False)\n",
      "    \n",
      "    Prints the values to a stream, or to sys.stdout by default.\n",
      "    Optional keyword arguments:\n",
      "    file:  a file-like object (stream); defaults to the current sys.stdout.\n",
      "    sep:   string inserted between values, default a space.\n",
      "    end:   string appended after the last value, default a newline.\n",
      "    flush: whether to forcibly flush the stream.\n",
      "\n"
     ]
    }
   ],
   "source": [
    "help(print)\n",
    "\n",
    "# bir komut hakkında bilgi almak için help komutunu kullanabilirsiniz"
   ]
  },
  {
   "cell_type": "code",
   "execution_count": 22,
   "metadata": {},
   "outputs": [
    {
     "data": {
      "text/plain": [
       "'ANKARA'"
      ]
     },
     "execution_count": 22,
     "metadata": {},
     "output_type": "execute_result"
    }
   ],
   "source": [
    "deger = \"ankara\"\n",
    "deger.upper()"
   ]
  },
  {
   "cell_type": "code",
   "execution_count": 23,
   "metadata": {},
   "outputs": [
    {
     "data": {
      "text/plain": [
       "'ANKARA'"
      ]
     },
     "execution_count": 23,
     "metadata": {},
     "output_type": "execute_result"
    }
   ],
   "source": [
    "\"ankara\".upper()"
   ]
  },
  {
   "cell_type": "code",
   "execution_count": 25,
   "metadata": {},
   "outputs": [
    {
     "name": "stdout",
     "output_type": "stream",
     "text": [
      "ankara kelimesinde k harfi vardır\n"
     ]
    }
   ],
   "source": [
    "for h in \"ankara\":\n",
    "    if h == \"k\" or h==\"K\":\n",
    "        print(\"ankara kelimesinde k harfi vardır\")\n",
    "        break"
   ]
  },
  {
   "cell_type": "code",
   "execution_count": 26,
   "metadata": {},
   "outputs": [
    {
     "name": "stdout",
     "output_type": "stream",
     "text": [
      "1\n",
      "2\n",
      "3\n",
      "4\n",
      "5\n",
      "6\n",
      "7\n",
      "8\n",
      "9\n"
     ]
    }
   ],
   "source": [
    "for i in range(1,10):\n",
    "    print(i)"
   ]
  },
  {
   "cell_type": "code",
   "execution_count": 27,
   "metadata": {},
   "outputs": [
    {
     "name": "stdout",
     "output_type": "stream",
     "text": [
      "1\n",
      "3\n",
      "5\n",
      "7\n",
      "9\n"
     ]
    }
   ],
   "source": [
    "for i in range(1,10,2): # (başlama, bitiş, arttırım)\n",
    "    print(i)"
   ]
  },
  {
   "cell_type": "code",
   "execution_count": 28,
   "metadata": {},
   "outputs": [
    {
     "name": "stdout",
     "output_type": "stream",
     "text": [
      "10\n",
      "8\n",
      "6\n",
      "4\n",
      "2\n"
     ]
    }
   ],
   "source": [
    "for i in range(10, 1, -2):\n",
    "    print(i)"
   ]
  },
  {
   "cell_type": "code",
   "execution_count": 29,
   "metadata": {},
   "outputs": [
    {
     "name": "stdout",
     "output_type": "stream",
     "text": [
      "2\n",
      "4\n",
      "6\n",
      "8\n"
     ]
    }
   ],
   "source": [
    "for i in range(2,10,2):\n",
    "    print(i)"
   ]
  },
  {
   "cell_type": "code",
   "execution_count": 31,
   "metadata": {},
   "outputs": [
    {
     "name": "stdout",
     "output_type": "stream",
     "text": [
      "Sayı değeri girin: 100\n",
      "Çift sayıların toplamı:  2450\n"
     ]
    }
   ],
   "source": [
    "sayi = int(input(\"Sayı değeri girin: \"))\n",
    "toplam = 0\n",
    "for i in range(2, sayi, 2):\n",
    "    toplam = toplam + i\n",
    "    # toplam += i\n",
    "print(\"Çift sayıların toplamı: \", toplam)"
   ]
  },
  {
   "cell_type": "code",
   "execution_count": null,
   "metadata": {},
   "outputs": [],
   "source": []
  }
 ],
 "metadata": {
  "kernelspec": {
   "display_name": "Python 3",
   "language": "python",
   "name": "python3"
  },
  "language_info": {
   "codemirror_mode": {
    "name": "ipython",
    "version": 3
   },
   "file_extension": ".py",
   "mimetype": "text/x-python",
   "name": "python",
   "nbconvert_exporter": "python",
   "pygments_lexer": "ipython3",
   "version": "3.9.0"
  }
 },
 "nbformat": 4,
 "nbformat_minor": 4
}
