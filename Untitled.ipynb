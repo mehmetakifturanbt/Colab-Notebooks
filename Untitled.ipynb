{
 "cells": [
  {
   "cell_type": "code",
   "execution_count": 1,
   "metadata": {},
   "outputs": [
    {
     "name": "stdout",
     "output_type": "stream",
     "text": [
      "Destructor çalıştı\n",
      "RIP\n"
     ]
    }
   ],
   "source": [
    "class A:\n",
    "    def __init_(self): #constructor\n",
    "        print(\"Constructor çalıştı\")\n",
    "        self.a = 1\n",
    "    def __del__(self):\n",
    "        print(\"Destructor çalıştı\")\n",
    "        print(\"RIP\")\n",
    "nesne1 = A()\n",
    "del nesne1"
   ]
  },
  {
   "cell_type": "code",
   "execution_count": 3,
   "metadata": {},
   "outputs": [
    {
     "name": "stdout",
     "output_type": "stream",
     "text": [
      "Ali\n"
     ]
    }
   ],
   "source": [
    "class A:\n",
    "    def __init__(self, param):\n",
    "        self.param = param\n",
    "    \n",
    "    def ornekSinif(self):\n",
    "        print(self.param)\n",
    "        \n",
    "    def ornekSinif2(self):\n",
    "        self.ornekSinif()\n",
    "        \n",
    "nesne1 = A(\"Ali\")\n",
    "nesne1.ornekSinif2()\n"
   ]
  },
  {
   "cell_type": "code",
   "execution_count": null,
   "metadata": {},
   "outputs": [],
   "source": [
    "class A:\n",
    "    def __init__(self):\n",
    "        self."
   ]
  }
 ],
 "metadata": {
  "kernelspec": {
   "display_name": "Python 3",
   "language": "python",
   "name": "python3"
  },
  "language_info": {
   "codemirror_mode": {
    "name": "ipython",
    "version": 3
   },
   "file_extension": ".py",
   "mimetype": "text/x-python",
   "name": "python",
   "nbconvert_exporter": "python",
   "pygments_lexer": "ipython3",
   "version": "3.9.1"
  }
 },
 "nbformat": 4,
 "nbformat_minor": 4
}
