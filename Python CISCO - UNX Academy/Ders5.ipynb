{
 "cells": [
  {
   "cell_type": "code",
   "execution_count": 1,
   "metadata": {},
   "outputs": [
    {
     "ename": "Terminator",
     "evalue": "",
     "output_type": "error",
     "traceback": [
      "\u001b[0;31m---------------------------------------------------------------------------\u001b[0m",
      "\u001b[0;31mTerminator\u001b[0m                                Traceback (most recent call last)",
      "\u001b[0;32m<ipython-input-1-d2dbb95571bb>\u001b[0m in \u001b[0;36m<module>\u001b[0;34m\u001b[0m\n\u001b[1;32m      9\u001b[0m     \u001b[0mcizim\u001b[0m\u001b[0;34m.\u001b[0m\u001b[0mpencolor\u001b[0m\u001b[0;34m(\u001b[0m\u001b[0mrenk\u001b[0m\u001b[0;34m)\u001b[0m\u001b[0;34m\u001b[0m\u001b[0;34m\u001b[0m\u001b[0m\n\u001b[1;32m     10\u001b[0m     \u001b[0mcizim\u001b[0m\u001b[0;34m.\u001b[0m\u001b[0mforward\u001b[0m\u001b[0;34m(\u001b[0m\u001b[0;36m250\u001b[0m\u001b[0;34m)\u001b[0m\u001b[0;34m\u001b[0m\u001b[0;34m\u001b[0m\u001b[0m\n\u001b[0;32m---> 11\u001b[0;31m     \u001b[0mcizim\u001b[0m\u001b[0;34m.\u001b[0m\u001b[0mleft\u001b[0m\u001b[0;34m(\u001b[0m\u001b[0;36m123\u001b[0m\u001b[0;34m)\u001b[0m\u001b[0;34m\u001b[0m\u001b[0;34m\u001b[0m\u001b[0m\n\u001b[0m\u001b[1;32m     12\u001b[0m     \u001b[0msayi\u001b[0m\u001b[0;34m+=\u001b[0m\u001b[0;36m1\u001b[0m\u001b[0;34m\u001b[0m\u001b[0;34m\u001b[0m\u001b[0m\n\u001b[1;32m     13\u001b[0m     \u001b[0;32mif\u001b[0m\u001b[0;34m(\u001b[0m\u001b[0msayi\u001b[0m\u001b[0;34m>\u001b[0m\u001b[0;36m7\u001b[0m\u001b[0;34m)\u001b[0m\u001b[0;34m:\u001b[0m\u001b[0;34m\u001b[0m\u001b[0;34m\u001b[0m\u001b[0m\n",
      "\u001b[0;32m/Library/Frameworks/Python.framework/Versions/3.9/lib/python3.9/turtle.py\u001b[0m in \u001b[0;36mleft\u001b[0;34m(self, angle)\u001b[0m\n\u001b[1;32m   1698\u001b[0m         \u001b[0;36m67.0\u001b[0m\u001b[0;34m\u001b[0m\u001b[0;34m\u001b[0m\u001b[0m\n\u001b[1;32m   1699\u001b[0m         \"\"\"\n\u001b[0;32m-> 1700\u001b[0;31m         \u001b[0mself\u001b[0m\u001b[0;34m.\u001b[0m\u001b[0m_rotate\u001b[0m\u001b[0;34m(\u001b[0m\u001b[0mangle\u001b[0m\u001b[0;34m)\u001b[0m\u001b[0;34m\u001b[0m\u001b[0;34m\u001b[0m\u001b[0m\n\u001b[0m\u001b[1;32m   1701\u001b[0m \u001b[0;34m\u001b[0m\u001b[0m\n\u001b[1;32m   1702\u001b[0m     \u001b[0;32mdef\u001b[0m \u001b[0mpos\u001b[0m\u001b[0;34m(\u001b[0m\u001b[0mself\u001b[0m\u001b[0;34m)\u001b[0m\u001b[0;34m:\u001b[0m\u001b[0;34m\u001b[0m\u001b[0;34m\u001b[0m\u001b[0m\n",
      "\u001b[0;32m/Library/Frameworks/Python.framework/Versions/3.9/lib/python3.9/turtle.py\u001b[0m in \u001b[0;36m_rotate\u001b[0;34m(self, angle)\u001b[0m\n\u001b[1;32m   3275\u001b[0m             \u001b[0;32mfor\u001b[0m \u001b[0m_\u001b[0m \u001b[0;32min\u001b[0m \u001b[0mrange\u001b[0m\u001b[0;34m(\u001b[0m\u001b[0msteps\u001b[0m\u001b[0;34m)\u001b[0m\u001b[0;34m:\u001b[0m\u001b[0;34m\u001b[0m\u001b[0;34m\u001b[0m\u001b[0m\n\u001b[1;32m   3276\u001b[0m                 \u001b[0mself\u001b[0m\u001b[0;34m.\u001b[0m\u001b[0m_orient\u001b[0m \u001b[0;34m=\u001b[0m \u001b[0mself\u001b[0m\u001b[0;34m.\u001b[0m\u001b[0m_orient\u001b[0m\u001b[0;34m.\u001b[0m\u001b[0mrotate\u001b[0m\u001b[0;34m(\u001b[0m\u001b[0mdelta\u001b[0m\u001b[0;34m)\u001b[0m\u001b[0;34m\u001b[0m\u001b[0;34m\u001b[0m\u001b[0m\n\u001b[0;32m-> 3277\u001b[0;31m                 \u001b[0mself\u001b[0m\u001b[0;34m.\u001b[0m\u001b[0m_update\u001b[0m\u001b[0;34m(\u001b[0m\u001b[0;34m)\u001b[0m\u001b[0;34m\u001b[0m\u001b[0;34m\u001b[0m\u001b[0m\n\u001b[0m\u001b[1;32m   3278\u001b[0m         \u001b[0mself\u001b[0m\u001b[0;34m.\u001b[0m\u001b[0m_orient\u001b[0m \u001b[0;34m=\u001b[0m \u001b[0mneworient\u001b[0m\u001b[0;34m\u001b[0m\u001b[0;34m\u001b[0m\u001b[0m\n\u001b[1;32m   3279\u001b[0m         \u001b[0mself\u001b[0m\u001b[0;34m.\u001b[0m\u001b[0m_update\u001b[0m\u001b[0;34m(\u001b[0m\u001b[0;34m)\u001b[0m\u001b[0;34m\u001b[0m\u001b[0;34m\u001b[0m\u001b[0m\n",
      "\u001b[0;32m/Library/Frameworks/Python.framework/Versions/3.9/lib/python3.9/turtle.py\u001b[0m in \u001b[0;36m_update\u001b[0;34m(self)\u001b[0m\n\u001b[1;32m   2659\u001b[0m             \u001b[0;32mreturn\u001b[0m\u001b[0;34m\u001b[0m\u001b[0;34m\u001b[0m\u001b[0m\n\u001b[1;32m   2660\u001b[0m         \u001b[0;32melif\u001b[0m \u001b[0mscreen\u001b[0m\u001b[0;34m.\u001b[0m\u001b[0m_tracing\u001b[0m \u001b[0;34m==\u001b[0m \u001b[0;36m1\u001b[0m\u001b[0;34m:\u001b[0m\u001b[0;34m\u001b[0m\u001b[0;34m\u001b[0m\u001b[0m\n\u001b[0;32m-> 2661\u001b[0;31m             \u001b[0mself\u001b[0m\u001b[0;34m.\u001b[0m\u001b[0m_update_data\u001b[0m\u001b[0;34m(\u001b[0m\u001b[0;34m)\u001b[0m\u001b[0;34m\u001b[0m\u001b[0;34m\u001b[0m\u001b[0m\n\u001b[0m\u001b[1;32m   2662\u001b[0m             \u001b[0mself\u001b[0m\u001b[0;34m.\u001b[0m\u001b[0m_drawturtle\u001b[0m\u001b[0;34m(\u001b[0m\u001b[0;34m)\u001b[0m\u001b[0;34m\u001b[0m\u001b[0;34m\u001b[0m\u001b[0m\n\u001b[1;32m   2663\u001b[0m             \u001b[0mscreen\u001b[0m\u001b[0;34m.\u001b[0m\u001b[0m_update\u001b[0m\u001b[0;34m(\u001b[0m\u001b[0;34m)\u001b[0m                  \u001b[0;31m# TurtleScreenBase\u001b[0m\u001b[0;34m\u001b[0m\u001b[0;34m\u001b[0m\u001b[0m\n",
      "\u001b[0;32m/Library/Frameworks/Python.framework/Versions/3.9/lib/python3.9/turtle.py\u001b[0m in \u001b[0;36m_update_data\u001b[0;34m(self)\u001b[0m\n\u001b[1;32m   2645\u001b[0m \u001b[0;34m\u001b[0m\u001b[0m\n\u001b[1;32m   2646\u001b[0m     \u001b[0;32mdef\u001b[0m \u001b[0m_update_data\u001b[0m\u001b[0;34m(\u001b[0m\u001b[0mself\u001b[0m\u001b[0;34m)\u001b[0m\u001b[0;34m:\u001b[0m\u001b[0;34m\u001b[0m\u001b[0;34m\u001b[0m\u001b[0m\n\u001b[0;32m-> 2647\u001b[0;31m         \u001b[0mself\u001b[0m\u001b[0;34m.\u001b[0m\u001b[0mscreen\u001b[0m\u001b[0;34m.\u001b[0m\u001b[0m_incrementudc\u001b[0m\u001b[0;34m(\u001b[0m\u001b[0;34m)\u001b[0m\u001b[0;34m\u001b[0m\u001b[0;34m\u001b[0m\u001b[0m\n\u001b[0m\u001b[1;32m   2648\u001b[0m         \u001b[0;32mif\u001b[0m \u001b[0mself\u001b[0m\u001b[0;34m.\u001b[0m\u001b[0mscreen\u001b[0m\u001b[0;34m.\u001b[0m\u001b[0m_updatecounter\u001b[0m \u001b[0;34m!=\u001b[0m \u001b[0;36m0\u001b[0m\u001b[0;34m:\u001b[0m\u001b[0;34m\u001b[0m\u001b[0;34m\u001b[0m\u001b[0m\n\u001b[1;32m   2649\u001b[0m             \u001b[0;32mreturn\u001b[0m\u001b[0;34m\u001b[0m\u001b[0;34m\u001b[0m\u001b[0m\n",
      "\u001b[0;32m/Library/Frameworks/Python.framework/Versions/3.9/lib/python3.9/turtle.py\u001b[0m in \u001b[0;36m_incrementudc\u001b[0;34m(self)\u001b[0m\n\u001b[1;32m   1291\u001b[0m         \u001b[0;32mif\u001b[0m \u001b[0;32mnot\u001b[0m \u001b[0mTurtleScreen\u001b[0m\u001b[0;34m.\u001b[0m\u001b[0m_RUNNING\u001b[0m\u001b[0;34m:\u001b[0m\u001b[0;34m\u001b[0m\u001b[0;34m\u001b[0m\u001b[0m\n\u001b[1;32m   1292\u001b[0m             \u001b[0mTurtleScreen\u001b[0m\u001b[0;34m.\u001b[0m\u001b[0m_RUNNING\u001b[0m \u001b[0;34m=\u001b[0m \u001b[0;32mTrue\u001b[0m\u001b[0;34m\u001b[0m\u001b[0;34m\u001b[0m\u001b[0m\n\u001b[0;32m-> 1293\u001b[0;31m             \u001b[0;32mraise\u001b[0m \u001b[0mTerminator\u001b[0m\u001b[0;34m\u001b[0m\u001b[0;34m\u001b[0m\u001b[0m\n\u001b[0m\u001b[1;32m   1294\u001b[0m         \u001b[0;32mif\u001b[0m \u001b[0mself\u001b[0m\u001b[0;34m.\u001b[0m\u001b[0m_tracing\u001b[0m \u001b[0;34m>\u001b[0m \u001b[0;36m0\u001b[0m\u001b[0;34m:\u001b[0m\u001b[0;34m\u001b[0m\u001b[0;34m\u001b[0m\u001b[0m\n\u001b[1;32m   1295\u001b[0m             \u001b[0mself\u001b[0m\u001b[0;34m.\u001b[0m\u001b[0m_updatecounter\u001b[0m \u001b[0;34m+=\u001b[0m \u001b[0;36m1\u001b[0m\u001b[0;34m\u001b[0m\u001b[0;34m\u001b[0m\u001b[0m\n",
      "\u001b[0;31mTerminator\u001b[0m: "
     ]
    }
   ],
   "source": [
    "# Turtle Örneği\n",
    "import turtle\n",
    "cizim = turtle.Turtle()\n",
    "renkler = [\"red\",\"blue\", \"orange\",\"green\",\"black\",\"pink\",\"purple\",\"yellow\"]\n",
    "sayi = 0\n",
    "\n",
    "for i in range(1,100):\n",
    "    renk = renkler[sayi]\n",
    "    cizim.pencolor(renk)\n",
    "    cizim.forward(250)\n",
    "    cizim.left(123)\n",
    "    sayi+=1\n",
    "    if(sayi>7):\n",
    "        sayi=0\n",
    "\n",
    "#turtle.mainloop()\n",
    "    \n"
   ]
  },
  {
   "cell_type": "code",
   "execution_count": 2,
   "metadata": {},
   "outputs": [],
   "source": [
    "import turtle\n",
    "cizim = turtle.Turtle()\n",
    "ekran = turtle.Screen()\n",
    "\n",
    "ekran.bgcolor(\"black\")\n",
    "cizim.pencolor(\"white\")\n",
    "\n",
    "a=0\n",
    "b=0\n",
    "cizim.speed(0)\n",
    "cizim.penup()\n",
    "cizim.goto(0,200)\n",
    "cizim.pendown()\n",
    "while True:\n",
    "    cizim.forward(a)\n",
    "    cizim.right(b)\n",
    "    a+=3\n",
    "    b+=1\n",
    "    if b==210:\n",
    "        break\n",
    "    cizim.hideturtle()\n",
    "turtle.done()\n"
   ]
  },
  {
   "cell_type": "code",
   "execution_count": 2,
   "metadata": {},
   "outputs": [
    {
     "name": "stdout",
     "output_type": "stream",
     "text": [
      "Lütfen notunuzu girin75\n",
      "Geçti\n"
     ]
    }
   ],
   "source": [
    "notu = int(input(\"Lütfen notunuzu girin\"))\n",
    "#if notu >=70:\n",
    "#    print(\"Geçti\")\n",
    "#else:\n",
    "#    print(\"Kaldı\")\n",
    "\n",
    "print(\"Geçti\" if notu >=70 else \"Kaldı\")\n"
   ]
  },
  {
   "cell_type": "code",
   "execution_count": 3,
   "metadata": {},
   "outputs": [
    {
     "name": "stdout",
     "output_type": "stream",
     "text": [
      "[1, 10, 100, 1000, 10000, 100000]\n"
     ]
    }
   ],
   "source": [
    "liste1 = []\n",
    "\n",
    "for i in range(6):\n",
    "    liste1.append(10**i)\n",
    "print(liste1)"
   ]
  },
  {
   "cell_type": "code",
   "execution_count": 4,
   "metadata": {},
   "outputs": [
    {
     "name": "stdout",
     "output_type": "stream",
     "text": [
      "[1, 10, 100, 1000, 10000, 100000]\n"
     ]
    }
   ],
   "source": [
    "# üstteki yapıyı kısaltmak için\n",
    "liste2 = [10** i for i in range(6)]\n",
    "print(liste2)\n"
   ]
  },
  {
   "cell_type": "code",
   "execution_count": null,
   "metadata": {},
   "outputs": [],
   "source": [
    "# FONKSİYONLAR\n",
    "\n",
    "def fonksiyonAdi():\n",
    "    #fonksiyon çağrılınca çalışacak kodlar\n",
    "    pass # Eğer içeriği hanüz olmayan ancak kodda bulunacak bir fonksiyon yazılacak ise pass kullanılabilir\n"
   ]
  },
  {
   "cell_type": "code",
   "execution_count": 5,
   "metadata": {},
   "outputs": [],
   "source": [
    "def merhaba():\n",
    "    isim = input(\"Lütfen isminizi yazın: \")\n",
    "    print(\"Merhaba\", isim)\n",
    "    # merhaba fonksiyonu bitti\n",
    "\n",
    "merhaba()"
   ]
  },
  {
   "cell_type": "code",
   "execution_count": 6,
   "metadata": {},
   "outputs": [
    {
     "name": "stdout",
     "output_type": "stream",
     "text": [
      "Merhaba onur\n"
     ]
    }
   ],
   "source": [
    "def yazdir(isim):\n",
    "    print(\"Merhaba\", isim)\n",
    "    #yazdir fonksiyonu bitti\n",
    "    \n",
    "yazdir(\"onur\")"
   ]
  },
  {
   "cell_type": "code",
   "execution_count": 9,
   "metadata": {},
   "outputs": [
    {
     "name": "stdout",
     "output_type": "stream",
     "text": [
      "Lütfen ilk sayıyı girin15\n",
      "Lütfen ikinci sayıyı girin25\n",
      "Sayıların toplamı: 40\n"
     ]
    }
   ],
   "source": [
    "def topla(sayi1, sayi2):\n",
    "    toplam = sayi1 + sayi2\n",
    "    print(\"Sayıların toplamı:\",toplam)\n",
    "\n",
    "s1 = int(input(\"Lütfen ilk sayıyı girin\"))\n",
    "s2 = int(input(\"Lütfen ikinci sayıyı girin\"))\n",
    "topla(s1,s2)"
   ]
  },
  {
   "cell_type": "code",
   "execution_count": 10,
   "metadata": {},
   "outputs": [
    {
     "name": "stdout",
     "output_type": "stream",
     "text": [
      "Lütfen ilk sayıyı girin12\n",
      "Lütfen ikinci sayıyı girin13\n",
      "Sayıların toplamı:  25\n"
     ]
    }
   ],
   "source": [
    "def toplaReturn(sayi1, sayi2):\n",
    "    toplam = sayi1 + sayi2\n",
    "    return toplam\n",
    "    # üstteki iki satırı saha kısa yazmak için\n",
    "    # return sayi1+sayi2\n",
    "    # toplaReturn fonksiyonu bitti\n",
    "\n",
    "s1 = int(input(\"Lütfen ilk sayıyı girin\"))\n",
    "s2 = int(input(\"Lütfen ikinci sayıyı girin\"))\n",
    "t = toplaReturn(s1,s2)\n",
    "print(\"Sayıların toplamı: \",t)"
   ]
  },
  {
   "cell_type": "code",
   "execution_count": 13,
   "metadata": {},
   "outputs": [
    {
     "name": "stdout",
     "output_type": "stream",
     "text": [
      "Lütfen adınızı yazın: Onur\n",
      "Merhaba Onur Nasılsın?\n"
     ]
    }
   ],
   "source": [
    "def merhaba(isim, mesaj=\"Nasılsın?\"):\n",
    "    print(\"Merhaba\", isim, mesaj)\n",
    "    # merhaba fonksiyonu bitti\n",
    "    \n",
    "ad = input(\"Lütfen adınızı yazın: \")\n",
    "# merhaba(ad) şeklinde mesaj parametresiz kullanabiliriz, bu durumda nasılsın yazacaktır\n",
    "# merhaba(ad, \"Günaydın\")\n",
    "merhaba(ad)"
   ]
  },
  {
   "cell_type": "code",
   "execution_count": 14,
   "metadata": {},
   "outputs": [
    {
     "name": "stdout",
     "output_type": "stream",
     "text": [
      "Lütfen adınızı yazın: Onur\n",
      "Merhaba Onur Nasılsın?\n"
     ]
    }
   ],
   "source": [
    "def merhabaReturn(isim, mesaj=\"Nasılsın\"):\n",
    "    msj = \"Merhaba \"+isim+\" \"+mesaj\n",
    "    return msj\n",
    "    # merhabaReturn fonksiyonu bitti\n",
    "########### Fonksiyon tanımala bitti\n",
    "ad = input(\"Lütfen adınızı yazın: \")\n",
    "print(\"Merhaba\",ad,\"Nasılsın?\")\n",
    "\n",
    "## bu durumda üstteki fonksiyon çalışmayacaktır"
   ]
  },
  {
   "cell_type": "code",
   "execution_count": 16,
   "metadata": {},
   "outputs": [
    {
     "name": "stdout",
     "output_type": "stream",
     "text": [
      "Lütfen adınızı yazın: Onur\n",
      "Merhaba Günaydın Onur\n"
     ]
    }
   ],
   "source": [
    "def merhabaReturn(isim, mesaj=\"Nasılsın\"):\n",
    "    msj = \"Merhaba \"+isim+\" \"+mesaj\n",
    "    return msj\n",
    "    # merhabaReturn fonksiyonu bitti\n",
    "########### Fonksiyon tanımala bitti\n",
    "ad = input(\"Lütfen adınızı yazın: \")\n",
    "m = merhabaReturn(ad, \"Günaydın\")\n",
    "print(m)"
   ]
  },
  {
   "cell_type": "code",
   "execution_count": 18,
   "metadata": {},
   "outputs": [
    {
     "name": "stdout",
     "output_type": "stream",
     "text": [
      "İlkFonk deger: 20\n",
      "İkinciFonks deger: 30\n",
      "10\n"
     ]
    }
   ],
   "source": [
    "deger = 10\n",
    "\n",
    "def ilkFonk():\n",
    "    deger = 20\n",
    "    print(\"İlkFonk deger:\", deger)\n",
    "    #ilkFonks bitti\n",
    "\n",
    "def ikinciFonks():\n",
    "    deger = 30\n",
    "    print(\"İkinciFonks deger:\", deger)\n",
    "    # ikinciFonks bitti\n",
    "\n",
    "ilkFonk()\n",
    "ikinciFonks()\n",
    "print(deger)"
   ]
  },
  {
   "cell_type": "code",
   "execution_count": 19,
   "metadata": {},
   "outputs": [
    {
     "name": "stdout",
     "output_type": "stream",
     "text": [
      "Merhaba Onur D\n"
     ]
    }
   ],
   "source": [
    "def adSoyad(ad, soyad):\n",
    "    print(\"Merhaba\", ad, soyad)\n",
    "    #adSoyad bitti\n",
    "    \n",
    "adSoyad(soyad=\"D\", ad=\"Onur\")"
   ]
  },
  {
   "cell_type": "code",
   "execution_count": 20,
   "metadata": {},
   "outputs": [
    {
     "name": "stdout",
     "output_type": "stream",
     "text": [
      "30\n"
     ]
    }
   ],
   "source": [
    "# Lambda Fonksiyonlar\n",
    "topla = lambda s1,s2 : s1+s2\n",
    "print(topla(10,20))"
   ]
  },
  {
   "cell_type": "code",
   "execution_count": 21,
   "metadata": {},
   "outputs": [
    {
     "name": "stdout",
     "output_type": "stream",
     "text": [
      "['ahmet', 'onur', 'çağdaş', 'ümit', 'şener']\n"
     ]
    }
   ],
   "source": [
    "liste = ['şener','çağdaş','onur','ümit','ahmet']\n",
    "liste.sort()\n",
    "print(liste)"
   ]
  },
  {
   "cell_type": "code",
   "execution_count": 25,
   "metadata": {},
   "outputs": [
    {
     "data": {
      "text/plain": [
       "['ahmet', 'çağdaş', 'onur', 'şükrü', 'şener', 'ümit']"
      ]
     },
     "execution_count": 25,
     "metadata": {},
     "output_type": "execute_result"
    }
   ],
   "source": [
    "liste = ['şükrü','şener','çağdaş','onur', 'ümit','ahmet']\n",
    "alfabe = 'abcçdefgğhıijklmnoöprsştuüvyz'\n",
    "cevir = {item: alfabe.index(item) for item in alfabe}\n",
    "sorted(liste, key= lambda x : cevir.get(x[0]))"
   ]
  },
  {
   "cell_type": "code",
   "execution_count": 31,
   "metadata": {},
   "outputs": [
    {
     "name": "stdout",
     "output_type": "stream",
     "text": [
      "Marka:  Toyota\n",
      "Model:  Auris\n",
      "Özellikler:   1.4 Benzinli Sunroof\n",
      "Marka:  Fiat\n",
      "Model:  Egea\n",
      "Özellikler:  \n"
     ]
    }
   ],
   "source": [
    "# değişken uzunluklu parametresi bulunan fonksiyonlar\n",
    "def araba(marka, model, *ozellikListesi):\n",
    "    print(\"Marka: \", marka)\n",
    "    print(\"Model: \", model)\n",
    "    oz = \"\"\n",
    "    for i in ozellikListesi:\n",
    "        oz = oz + \" \"+ i\n",
    "    print(\"Özellikler: \", oz)\n",
    "    \n",
    "araba(\"Toyota\",\"Auris\",\"1.4\",\"Benzinli\",\"Sunroof\") # ilk iki parametre sonrası liste olarak aktarılacaktır \n",
    "# [\"1.4\",\"Benzinli\",\"Sunroof\"]\n",
    "araba(\"Fiat\",\"Egea\")"
   ]
  },
  {
   "cell_type": "code",
   "execution_count": 37,
   "metadata": {},
   "outputs": [
    {
     "name": "stdout",
     "output_type": "stream",
     "text": [
      "Metot çalıştı\n"
     ]
    }
   ],
   "source": [
    "# SINIFLAR\n",
    "\n",
    "class SinifAdi:\n",
    "    sinifIcindeKullanilacakDegiskenler = 0\n",
    "    \n",
    "    def metotAdi(self):\n",
    "        print(\"Metot çalıştı\")\n",
    "        # metot içerisinde çalışacak kodlar burada yer alacak\n",
    "    def ikinciMetot(self):\n",
    "        print(\"İkinci metot çalıştı\")\n",
    "        \n",
    "snf = SinifAdi()\n",
    "snf.metotAdi()\n",
    "#snf.ikinciMetot()\n",
    "\n"
   ]
  },
  {
   "cell_type": "markdown",
   "metadata": {},
   "source": [
    "# Sınıf içerisindeki bazı metotlar\n",
    "\n",
    "__init__()  : Bir sınıf çağrıldığında ilk çalışan metotdur\n",
    "__dict__()  : Sınıfın içindekiler bölümü gibidir, içerisindeki metotları listeler\n",
    "__del__()   : Nesneyi yok eder"
   ]
  },
  {
   "cell_type": "code",
   "execution_count": 42,
   "metadata": {},
   "outputs": [
    {
     "name": "stdout",
     "output_type": "stream",
     "text": [
      "Öğrenci Bilgileri\n",
      "Öğrenci Adı: Onur\n",
      "Öğrenci Soyadı: D\n",
      "Öğrenci Sınıfı: 1A\n",
      "{}\n"
     ]
    }
   ],
   "source": [
    "class Ogrenci:\n",
    "    ad = \"\"\n",
    "    soyad = \"\"\n",
    "    sinif = \"\"\n",
    "    def __init__(self, adi, soyadi, sinifi):\n",
    "        Ogrenci.ad = adi\n",
    "        Ogrenci.soyad = soyadi\n",
    "        Ogrenci.sinif = sinifi\n",
    "    def yazdir(self):\n",
    "        print(\"Öğrenci Bilgileri\")\n",
    "        print(\"Öğrenci Adı:\", Ogrenci.ad)\n",
    "        print(\"Öğrenci Soyadı:\", Ogrenci.soyad)\n",
    "        print(\"Öğrenci Sınıfı:\", Ogrenci.sinif)\n",
    "        \n",
    "### Sınıf tanımlaması bitti\n",
    "ogr = Ogrenci(\"Onur\",\"D\",\"1A\")\n",
    "ogr.yazdir()\n",
    "print(ogr.__dict__)"
   ]
  },
  {
   "cell_type": "code",
   "execution_count": 44,
   "metadata": {},
   "outputs": [
    {
     "name": "stdout",
     "output_type": "stream",
     "text": [
      "Lütfen ilk sayıyı girin: 10\n",
      "Lütfen ikinci sayıyı girin: 20\n",
      "Toplam: 30\n",
      "Fark: -10\n",
      "Çarpım: 200\n",
      "Bölme: 0.5\n"
     ]
    }
   ],
   "source": [
    "class Hesap:\n",
    "    def toplama(self, sayi1, sayi2):\n",
    "        return sayi1+sayi2\n",
    "    def cikarma(self, sayi1, sayi2):\n",
    "        return sayi1-sayi2\n",
    "    def carpma(self, sayi1, sayi2):\n",
    "        return sayi1*sayi2\n",
    "    def bolme(self, sayi1, sayi2):\n",
    "        return sayi1/sayi2\n",
    "## hesap sınıfı tamamlandı\n",
    "\n",
    "s1 = int(input(\"Lütfen ilk sayıyı girin: \"))\n",
    "s2 = int(input(\"Lütfen ikinci sayıyı girin: \"))\n",
    "islem = Hesap()\n",
    "toplam = islem.toplama(s1,s2)\n",
    "print(\"Toplam:\",toplam)\n",
    "cikar = islem.cikarma(s1,s2)\n",
    "print(\"Fark:\",cikar)\n",
    "carp = islem.carpma(s1,s2)\n",
    "print(\"Çarpım:\",carp)\n",
    "bol = islem.bolme(s1,s2)\n",
    "print(\"Bölme:\",bol)\n"
   ]
  },
  {
   "cell_type": "code",
   "execution_count": 51,
   "metadata": {},
   "outputs": [
    {
     "name": "stdout",
     "output_type": "stream",
     "text": [
      "Öğrenci Bilgileri\n",
      "Adı Soyadı: Onur D\n",
      "Sınıfı: 1A\n"
     ]
    }
   ],
   "source": [
    "# MİRAS\n",
    "\n",
    "class AdSoyad:\n",
    "    def __init__(self, ad, soyad):\n",
    "        self.ad = ad\n",
    "        self.soyad = soyad\n",
    "    def yazdir(self):\n",
    "        return self.ad + \" \"+ self.soyad\n",
    "## AdSoyad sınıfı bitti\n",
    "\n",
    "class Ogrenci(AdSoyad):\n",
    "    def __init__(self, isim, soyisim, sinif):\n",
    "        AdSoyad.__init__(self, isim, soyisim)\n",
    "        self.sinif = sinif\n",
    "        \n",
    "    def ekranaYazdir(self):\n",
    "        print(\"Öğrenci Bilgileri\")\n",
    "        print(\"Adı Soyadı:\",AdSoyad.yazdir(self))\n",
    "        print(\"Sınıfı:\", self.sinif)\n",
    "\n",
    "## Ogrenci sınıfı bitti\n",
    "\n",
    "if __name__ == \"__main__\": # çalışan kod bloğu main mi\n",
    "    ogr = Ogrenci(\"Onur\",\"D\",\"1A\")\n",
    "    ogr.ekranaYazdir()"
   ]
  },
  {
   "cell_type": "markdown",
   "metadata": {},
   "source": [
    "# DOSYA İŞLEMLERİ PARAMETRELERİ\n",
    "\n",
    "r -> Okuma yetkisi, Okunacak dosya yoksa hata verir\n",
    "w -> Yazma yetkisi, dosya yoksa oluşturur varsa içeriğini siler\n",
    "a -> Yazma yetkisi, aynı adda dosya varsa sonuna ekler\n",
    "x -> Yazma yetkisi, W gibi ancak dosya varsa silmek yerine hata verir\n",
    "w+ -> Hem okuma hem yazma yetkisidir. Aynı ada sahip dosya varsa içeriğini siler yoksa oluşturur\n",
    "a+ -> W+ ile aynı\n",
    "x+ -> W+ ile aynı ama aynı ada sahip dosya varsa yazdırma işleminde hata mesajı verir"
   ]
  },
  {
   "cell_type": "code",
   "execution_count": 55,
   "metadata": {},
   "outputs": [],
   "source": [
    "dosya = open(\"deneme.txt\",\"a\", encoding=\"utf8\")\n",
    "dosya.write(\"Bu ilk satır\\n\")\n",
    "dosya.write(\"Bu ikinci satır\\n\")\n",
    "dosya.close()"
   ]
  },
  {
   "cell_type": "code",
   "execution_count": 57,
   "metadata": {},
   "outputs": [
    {
     "name": "stdout",
     "output_type": "stream",
     "text": [
      "Bu ilk satır\n",
      "Bu ikinci satır\n",
      "Bu ilk satır\n",
      "Bu ikinci satır\n",
      "Bu üçüncü satır\n",
      "\n"
     ]
    }
   ],
   "source": [
    "dosyaOku = open(\"deneme.txt\",\"r\")\n",
    "icerik = dosyaOku.read()\n",
    "print(icerik)\n",
    "dosyaOku.close()"
   ]
  },
  {
   "cell_type": "code",
   "execution_count": 58,
   "metadata": {},
   "outputs": [
    {
     "name": "stdout",
     "output_type": "stream",
     "text": [
      "Bu il\n"
     ]
    }
   ],
   "source": [
    "# Belirli sayıda karakter okumak için\n",
    "dosyaOku = open(\"deneme.txt\",\"r\")\n",
    "icerik = dosyaOku.read(5)\n",
    "print(icerik)\n",
    "dosyaOku.close()"
   ]
  },
  {
   "cell_type": "code",
   "execution_count": 65,
   "metadata": {},
   "outputs": [
    {
     "name": "stdout",
     "output_type": "stream",
     "text": [
      "Biı\n"
     ]
    }
   ],
   "source": [
    "# işaretçiyi hareket ettirmek için\n",
    "dosyaOku = open(\"deneme.txt\",\"r\")\n",
    "icerik = dosyaOku.read(1)\n",
    "dosyaOku.seek(3)\n",
    "icerik = icerik + dosyaOku.read(1)\n",
    "dosyaOku.seek(10)\n",
    "icerik = icerik + dosyaOku.read(1)\n",
    "print(icerik)\n",
    "dosyaOku.close()"
   ]
  },
  {
   "cell_type": "code",
   "execution_count": 72,
   "metadata": {},
   "outputs": [
    {
     "name": "stdout",
     "output_type": "stream",
     "text": [
      "Lütfen alış-satış yapacağınız miktarı girin100\n",
      "Lütfen işlemini girin (A: Alış, S: Satış)S\n",
      "Sonuç:  739.6899999999999 TL\n"
     ]
    }
   ],
   "source": [
    "# Request ve Json Örneği\n",
    "\n",
    "from urllib.request import urlopen\n",
    "import json\n",
    "\n",
    "webData = urlopen('https://finans.truncgil.com/today.json').read().decode(\"utf-8\")\n",
    "\n",
    "data = json.loads(webData)\n",
    "miktar = float(input(\"Lütfen alış-satış yapacağınız miktarı girin\"))\n",
    "islem = input(\"Lütfen işlemini girin (A: Alış, S: Satış)\")\n",
    "\n",
    "if islem == \"A\":\n",
    "    sonuc = miktar * float(data['ABD DOLARI']['Alış'] )\n",
    "    print(\"Sonuç: \", sonuc, \"TL\")\n",
    "else:\n",
    "    sonuc = miktar * float(data['ABD DOLARI']['Satış']) \n",
    "    print(\"Sonuç: \", sonuc, \"TL\")\n"
   ]
  },
  {
   "cell_type": "code",
   "execution_count": null,
   "metadata": {},
   "outputs": [],
   "source": []
  }
 ],
 "metadata": {
  "kernelspec": {
   "display_name": "Python 3",
   "language": "python",
   "name": "python3"
  },
  "language_info": {
   "codemirror_mode": {
    "name": "ipython",
    "version": 3
   },
   "file_extension": ".py",
   "mimetype": "text/x-python",
   "name": "python",
   "nbconvert_exporter": "python",
   "pygments_lexer": "ipython3",
   "version": "3.9.0"
  }
 },
 "nbformat": 4,
 "nbformat_minor": 4
}
