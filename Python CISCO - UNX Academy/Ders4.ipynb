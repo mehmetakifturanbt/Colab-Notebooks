{
 "cells": [
  {
   "cell_type": "code",
   "execution_count": 1,
   "metadata": {},
   "outputs": [
    {
     "name": "stdout",
     "output_type": "stream",
     "text": [
      "Sayı sıfırdan büyüktür\n"
     ]
    }
   ],
   "source": [
    "sayi = 10\n",
    "\n",
    "\n",
    "if sayi > 0:\n",
    "    print(\"Sayı sıfırdan büyüktür\")\n",
    "elif sayi < 0:\n",
    "    print(\"Sayı sıfırdan küçüktür\")\n",
    "else:\n",
    "    print(\"Sayı sıfıra eşittir\")\n"
   ]
  },
  {
   "cell_type": "code",
   "execution_count": 2,
   "metadata": {},
   "outputs": [
    {
     "name": "stdout",
     "output_type": "stream",
     "text": [
      "1\n",
      "2\n",
      "3\n",
      "4\n",
      "5\n",
      "6\n",
      "7\n",
      "8\n",
      "9\n"
     ]
    }
   ],
   "source": [
    "sayi = 10\n",
    "i = 1\n",
    "while i < sayi:\n",
    "    print(i)\n",
    "    i+=1\n",
    "\n"
   ]
  },
  {
   "cell_type": "code",
   "execution_count": 3,
   "metadata": {},
   "outputs": [
    {
     "name": "stdout",
     "output_type": "stream",
     "text": [
      "m\n",
      "e\n",
      "r\n",
      "h\n",
      "a\n",
      "b\n",
      "a\n"
     ]
    }
   ],
   "source": [
    "for a in \"merhaba\":\n",
    "    print(a)\n"
   ]
  },
  {
   "cell_type": "code",
   "execution_count": 6,
   "metadata": {},
   "outputs": [
    {
     "name": "stdout",
     "output_type": "stream",
     "text": [
      "1\n"
     ]
    }
   ],
   "source": [
    "for sayi in range(1,10):\n",
    "    print(sayi)\n",
    "    if sayi == 5:\n",
    "        break"
   ]
  },
  {
   "cell_type": "code",
   "execution_count": 8,
   "metadata": {},
   "outputs": [
    {
     "name": "stdout",
     "output_type": "stream",
     "text": [
      "1\n",
      "a\n",
      "b\n",
      "2\n",
      "a\n",
      "b\n",
      "3\n",
      "a\n",
      "b\n"
     ]
    }
   ],
   "source": [
    "for sayi in range(1,5):\n",
    "    print(sayi)\n",
    "    for harf in \"abc\":\n",
    "        print(harf)\n",
    "        if harf == \"b\":\n",
    "            break\n",
    "    if sayi == 3:\n",
    "        break\n"
   ]
  },
  {
   "cell_type": "markdown",
   "metadata": {},
   "source": [
    "# DEĞİŞKENLER\n",
    "\n",
    "1. Metinler (String) \n",
    "    123 --> Sayısal\n",
    "    \"123\" --> Metin\n",
    "    \"123abc\" --> Metin\n",
    "    \"abc\" --> Metin\n",
    "    abc --> Değişken adı olabilir\n",
    "    \n",
    "2. Tam sayılar (Integer) : 32bit değerindedir, +2147483647 / -2147483647 aralığında değer alır\n",
    "    a = 10\n",
    "    b = 20\n",
    "    \n",
    "3. Reel Sayılar (Float): 64bit değerindedir ve nokta ile ayrılır, 1.7 x 10^308\n",
    "    a = float(23)  --> a = 23.0\n",
    "\n",
    "4. Mantıksal Durum (Boolean): Sadece True / False, mantıksal sınamalarda kullanılır\n",
    "\n",
    "5. Komplex sayılar: \n",
    "    ks = 14.5 + 7.12i\n",
    "    ks.real --> 14.5\n",
    "    ks.imag --> 7.12\n",
    "    \n"
   ]
  },
  {
   "cell_type": "markdown",
   "metadata": {},
   "source": [
    "# Tür Dönüşümleri\n",
    "\n",
    "tamSayiyaDonus = int(metinDegeri)\n",
    "reelSayiyaDonus = float(metinDegeri)\n",
    "reelSayiyaDonus = float(tamSayi)\n",
    "tamSayiyaDonus = int(reelSayi)  --> bu ifadede yuvarlama işlemi yapılmaz, noktadan sonrası atılır\n",
    "metineDonus = string(tamSayi)\n",
    "metineDonus = string(reelSayi)"
   ]
  },
  {
   "cell_type": "markdown",
   "metadata": {},
   "source": [
    "# Veri Yapıları\n",
    "\n",
    "# Listeler \n",
    "- Sıralıdır (sıfırdan başlar)\n",
    "- String ifadeler ile aynı dilimleme ve atama işlemlerini destekler\n",
    "- Liste elemanlarına index değerleri ile kolayca ulaşılabilir\n",
    "- Listede araya ekleme yapılabilir\n",
    "- Listeler [] ve elemanları virgül ile ayrılır\n",
    "\n",
    "liste = [\"a\",\"b\",\"c\",1,2,3]\n",
    "print(liste[2])  --> c\n",
    "\n"
   ]
  },
  {
   "cell_type": "code",
   "execution_count": 9,
   "metadata": {},
   "outputs": [
    {
     "data": {
      "text/plain": [
       "['__add__',\n",
       " '__class__',\n",
       " '__class_getitem__',\n",
       " '__contains__',\n",
       " '__delattr__',\n",
       " '__delitem__',\n",
       " '__dir__',\n",
       " '__doc__',\n",
       " '__eq__',\n",
       " '__format__',\n",
       " '__ge__',\n",
       " '__getattribute__',\n",
       " '__getitem__',\n",
       " '__gt__',\n",
       " '__hash__',\n",
       " '__iadd__',\n",
       " '__imul__',\n",
       " '__init__',\n",
       " '__init_subclass__',\n",
       " '__iter__',\n",
       " '__le__',\n",
       " '__len__',\n",
       " '__lt__',\n",
       " '__mul__',\n",
       " '__ne__',\n",
       " '__new__',\n",
       " '__reduce__',\n",
       " '__reduce_ex__',\n",
       " '__repr__',\n",
       " '__reversed__',\n",
       " '__rmul__',\n",
       " '__setattr__',\n",
       " '__setitem__',\n",
       " '__sizeof__',\n",
       " '__str__',\n",
       " '__subclasshook__',\n",
       " 'append',\n",
       " 'clear',\n",
       " 'copy',\n",
       " 'count',\n",
       " 'extend',\n",
       " 'index',\n",
       " 'insert',\n",
       " 'pop',\n",
       " 'remove',\n",
       " 'reverse',\n",
       " 'sort']"
      ]
     },
     "execution_count": 9,
     "metadata": {},
     "output_type": "execute_result"
    }
   ],
   "source": [
    "liste = [\"a\",\"b\",\"c\"]\n",
    "dir(liste)"
   ]
  },
  {
   "cell_type": "code",
   "execution_count": 10,
   "metadata": {},
   "outputs": [
    {
     "data": {
      "text/plain": [
       "['__add__',\n",
       " '__class__',\n",
       " '__contains__',\n",
       " '__delattr__',\n",
       " '__dir__',\n",
       " '__doc__',\n",
       " '__eq__',\n",
       " '__format__',\n",
       " '__ge__',\n",
       " '__getattribute__',\n",
       " '__getitem__',\n",
       " '__getnewargs__',\n",
       " '__gt__',\n",
       " '__hash__',\n",
       " '__init__',\n",
       " '__init_subclass__',\n",
       " '__iter__',\n",
       " '__le__',\n",
       " '__len__',\n",
       " '__lt__',\n",
       " '__mod__',\n",
       " '__mul__',\n",
       " '__ne__',\n",
       " '__new__',\n",
       " '__reduce__',\n",
       " '__reduce_ex__',\n",
       " '__repr__',\n",
       " '__rmod__',\n",
       " '__rmul__',\n",
       " '__setattr__',\n",
       " '__sizeof__',\n",
       " '__str__',\n",
       " '__subclasshook__',\n",
       " 'capitalize',\n",
       " 'casefold',\n",
       " 'center',\n",
       " 'count',\n",
       " 'encode',\n",
       " 'endswith',\n",
       " 'expandtabs',\n",
       " 'find',\n",
       " 'format',\n",
       " 'format_map',\n",
       " 'index',\n",
       " 'isalnum',\n",
       " 'isalpha',\n",
       " 'isascii',\n",
       " 'isdecimal',\n",
       " 'isdigit',\n",
       " 'isidentifier',\n",
       " 'islower',\n",
       " 'isnumeric',\n",
       " 'isprintable',\n",
       " 'isspace',\n",
       " 'istitle',\n",
       " 'isupper',\n",
       " 'join',\n",
       " 'ljust',\n",
       " 'lower',\n",
       " 'lstrip',\n",
       " 'maketrans',\n",
       " 'partition',\n",
       " 'removeprefix',\n",
       " 'removesuffix',\n",
       " 'replace',\n",
       " 'rfind',\n",
       " 'rindex',\n",
       " 'rjust',\n",
       " 'rpartition',\n",
       " 'rsplit',\n",
       " 'rstrip',\n",
       " 'split',\n",
       " 'splitlines',\n",
       " 'startswith',\n",
       " 'strip',\n",
       " 'swapcase',\n",
       " 'title',\n",
       " 'translate',\n",
       " 'upper',\n",
       " 'zfill']"
      ]
     },
     "execution_count": 10,
     "metadata": {},
     "output_type": "execute_result"
    }
   ],
   "source": [
    "dir(\"merhaba\")"
   ]
  },
  {
   "cell_type": "markdown",
   "metadata": {},
   "source": [
    "# Liste metotları\n",
    "\n",
    "liste = [\"a\",\"b\",\"c\"]\n",
    "liste.count(\"a\") --> parantez içerisindeki ifade listede kaç kez yer alıyor\n",
    "liste.append(\"d\") --> liste sonuna eleman ekler, her seferinde tek eleman ekler\n",
    "liste.append([1,2,3]) --> liste = [\"a\",\"b\",\"c\", [1,2,3]], append ile liste eklemek istersek iç liste olarak ekler\n",
    "liste.extend([1,2,3]) --> liste = [\"a\",\"b\",\"c\",1,2,3], listenin sonuna ekler\n",
    "liste.insert(2,\"e\")   --> Listeye belirttiğimiz index değeri olarak elemanı araya ekler\n",
    "liste.remove(\"b\")     --> belirtilen elemanı listeden siler\n",
    "liste.reverse()  --> Listeyi ters çevirir\n",
    "liste.pop(2)   --> indexi 2 olan elemanı siler ve sildiği öğeyi ekrana yazar, parametresiz ise son elemanı siler\n",
    "liste.sort()  --> Sıralama\n",
    "liste.index(\"b\")   --> b elemanının index değerini verir\n",
    "liste2 = liste.copy()  --> liste deki tüm elemanları liste2 ye kopyalar\n",
    "liste.clear()   --> listedeki tüm elemanları temizler"
   ]
  },
  {
   "cell_type": "code",
   "execution_count": 14,
   "metadata": {},
   "outputs": [
    {
     "name": "stdout",
     "output_type": "stream",
     "text": [
      "['a', 'b', 'd', 'c']\n",
      "['a', 'b', 'c']\n"
     ]
    }
   ],
   "source": [
    "liste = [\"a\",\"b\",\"c\"]\n",
    "liste.insert(2,\"d\")\n",
    "print(liste)\n",
    "liste.remove(\"d\")\n",
    "print(liste)"
   ]
  },
  {
   "cell_type": "markdown",
   "metadata": {},
   "source": [
    "# Demetler -Tupple\n",
    "- Parantez içerisinde birbirinden virgül ile ayrılmış nesnelerden oluşur\n",
    "- Index değeri sıfırdan başlar\n",
    "- Elemanları değiştirilemez, silinemez\n",
    "- Dilimlenebilir\n",
    "- İç içe kullanımı destekler\n",
    "\n",
    "Desteklediği Metotlar\n",
    "demet.count(\"b\")   --> değeri b olan elemanının demet içerisinde kaç kez geçtiğini bulur\n",
    "demet.index(\"b\")   --> değeri b demet öğesinin index değerini verir"
   ]
  },
  {
   "cell_type": "code",
   "execution_count": 15,
   "metadata": {},
   "outputs": [
    {
     "data": {
      "text/plain": [
       "['__add__',\n",
       " '__class__',\n",
       " '__class_getitem__',\n",
       " '__contains__',\n",
       " '__delattr__',\n",
       " '__dir__',\n",
       " '__doc__',\n",
       " '__eq__',\n",
       " '__format__',\n",
       " '__ge__',\n",
       " '__getattribute__',\n",
       " '__getitem__',\n",
       " '__getnewargs__',\n",
       " '__gt__',\n",
       " '__hash__',\n",
       " '__init__',\n",
       " '__init_subclass__',\n",
       " '__iter__',\n",
       " '__le__',\n",
       " '__len__',\n",
       " '__lt__',\n",
       " '__mul__',\n",
       " '__ne__',\n",
       " '__new__',\n",
       " '__reduce__',\n",
       " '__reduce_ex__',\n",
       " '__repr__',\n",
       " '__rmul__',\n",
       " '__setattr__',\n",
       " '__sizeof__',\n",
       " '__str__',\n",
       " '__subclasshook__',\n",
       " 'count',\n",
       " 'index']"
      ]
     },
     "execution_count": 15,
     "metadata": {},
     "output_type": "execute_result"
    }
   ],
   "source": [
    "demet = (\"a\",\"b\",\"c\")\n",
    "dir(demet)"
   ]
  },
  {
   "cell_type": "code",
   "execution_count": 18,
   "metadata": {},
   "outputs": [
    {
     "name": "stdout",
     "output_type": "stream",
     "text": [
      "Count metotu belirtilen elemanın kaç kez geçtiğini belirtir\n"
     ]
    },
    {
     "data": {
      "text/plain": [
       "1"
      ]
     },
     "execution_count": 18,
     "metadata": {},
     "output_type": "execute_result"
    }
   ],
   "source": [
    "liste = [\"a\",\"b\",\"c\"]\n",
    "print(\"Count metotu belirtilen elemanın kaç kez geçtiğini belirtir, Tupple ile aynı şekilde kullanılır\")\n",
    "liste.count(\"a\")"
   ]
  },
  {
   "cell_type": "code",
   "execution_count": 22,
   "metadata": {},
   "outputs": [
    {
     "name": "stdout",
     "output_type": "stream",
     "text": [
      "Append metotu liste sonuna eleman ekler\n",
      "['a', 'b', 'c', 'd']\n"
     ]
    }
   ],
   "source": [
    "liste = [\"a\",\"b\",\"c\"]\n",
    "print(\"Append metotu liste sonuna eleman ekler\")\n",
    "liste.append(\"d\")\n",
    "print(liste)"
   ]
  },
  {
   "cell_type": "code",
   "execution_count": 21,
   "metadata": {},
   "outputs": [
    {
     "name": "stdout",
     "output_type": "stream",
     "text": [
      "Extend metotu listeyi diğer listeye ilave eder\n",
      "['a', 'b', 'c', 'd', 'e']\n"
     ]
    }
   ],
   "source": [
    "liste1 = [\"a\",\"b\",\"c\"]\n",
    "liste2 = [\"d\", \"e\"]\n",
    "print(\"Extend metotu listeyi diğer listeye ilave eder\")\n",
    "liste1.extend(liste2)\n",
    "print(liste1)"
   ]
  },
  {
   "cell_type": "code",
   "execution_count": 23,
   "metadata": {},
   "outputs": [
    {
     "name": "stdout",
     "output_type": "stream",
     "text": [
      "Insert metotu belirtilen index değerinde eleman ekler\n",
      "['a', 'd', 'b', 'c']\n"
     ]
    }
   ],
   "source": [
    "liste = [\"a\",\"b\",\"c\"]\n",
    "print(\"Insert metotu belirtilen index değerinde eleman ekler\")\n",
    "liste.insert(1,\"d\")\n",
    "print(liste)"
   ]
  },
  {
   "cell_type": "code",
   "execution_count": 24,
   "metadata": {},
   "outputs": [
    {
     "name": "stdout",
     "output_type": "stream",
     "text": [
      "Remove metotu belirtilen elemanı siler\n",
      "['a', 'c']\n"
     ]
    }
   ],
   "source": [
    "liste = [\"a\",\"b\",\"c\"]\n",
    "print(\"Remove metotu belirtilen elemanı siler\")\n",
    "liste.remove(\"b\")\n",
    "print(liste)"
   ]
  },
  {
   "cell_type": "code",
   "execution_count": 25,
   "metadata": {},
   "outputs": [
    {
     "name": "stdout",
     "output_type": "stream",
     "text": [
      "Reverse metotu listeyi ters çevirir\n",
      "['c', 'b', 'a']\n"
     ]
    }
   ],
   "source": [
    "liste = [\"a\",\"b\",\"c\"]\n",
    "print(\"Reverse metotu listeyi ters çevirir\")\n",
    "liste.reverse()\n",
    "print(liste)"
   ]
  },
  {
   "cell_type": "code",
   "execution_count": 26,
   "metadata": {},
   "outputs": [
    {
     "name": "stdout",
     "output_type": "stream",
     "text": [
      "Pop metotu belirtilen indexli elemanı siler, parametre verilmez ise son elemanı siler\n",
      "['a', 'c']\n"
     ]
    }
   ],
   "source": [
    "liste = [\"a\",\"b\",\"c\"]\n",
    "print(\"Pop metotu belirtilen indexli elemanı siler, parametre verilmez ise son elemanı siler\")\n",
    "liste.pop(1)\n",
    "print(liste)"
   ]
  },
  {
   "cell_type": "code",
   "execution_count": 30,
   "metadata": {},
   "outputs": [
    {
     "name": "stdout",
     "output_type": "stream",
     "text": [
      "Sort metotu belirtilen listeyi sıralar\n",
      "['a', 'b', 'c', 'd', 'ç']\n"
     ]
    }
   ],
   "source": [
    "liste = [\"d\",\"c\",\"ç\",\"b\",\"a\"]\n",
    "print(\"Sort metotu belirtilen listeyi sıralar\")\n",
    "liste.sort()\n",
    "print(liste)"
   ]
  },
  {
   "cell_type": "code",
   "execution_count": 33,
   "metadata": {},
   "outputs": [
    {
     "name": "stdout",
     "output_type": "stream",
     "text": [
      "Index, değeri belirtilen öğenin index değerini verir\n"
     ]
    },
    {
     "data": {
      "text/plain": [
       "1"
      ]
     },
     "execution_count": 33,
     "metadata": {},
     "output_type": "execute_result"
    }
   ],
   "source": [
    "liste = [\"a\",\"c\",\"b\",\"c\",\"d\",\"e\",\"c\"]\n",
    "print(\"Index, değeri belirtilen öğenin index değerini verir, Tupple ile de aynı şekilde kullanılır\")\n",
    "liste.index(\"c\")"
   ]
  },
  {
   "cell_type": "code",
   "execution_count": 34,
   "metadata": {},
   "outputs": [
    {
     "name": "stdout",
     "output_type": "stream",
     "text": [
      "Copy, liste değerini diğer bir listeye kopyalar\n",
      "['a', 'b', 'c']\n",
      "['a', 'b', 'c']\n"
     ]
    }
   ],
   "source": [
    "liste = [\"a\",\"b\",\"c\"]\n",
    "print(\"Copy, liste değerini diğer bir listeye kopyalar\")\n",
    "liste2 = liste.copy()\n",
    "print(liste)\n",
    "print(liste2)"
   ]
  },
  {
   "cell_type": "code",
   "execution_count": 35,
   "metadata": {},
   "outputs": [
    {
     "name": "stdout",
     "output_type": "stream",
     "text": [
      "Clear liste içeriğini temizler\n",
      "[]\n"
     ]
    }
   ],
   "source": [
    "liste = [\"a\",\"b\",\"c\"]\n",
    "print(\"Clear liste içeriğini temizler\")\n",
    "liste.clear()\n",
    "print(liste)"
   ]
  },
  {
   "cell_type": "code",
   "execution_count": 36,
   "metadata": {},
   "outputs": [
    {
     "name": "stdout",
     "output_type": "stream",
     "text": [
      "Liste öğesinin değerini değiştirme\n",
      "['a', 'e', 'c']\n"
     ]
    }
   ],
   "source": [
    "liste = [\"a\",\"b\",\"c\"]\n",
    "print(\"Liste öğesinin değerini değiştirme\")\n",
    "liste[1] = \"e\"\n",
    "print(liste)"
   ]
  },
  {
   "cell_type": "code",
   "execution_count": 37,
   "metadata": {},
   "outputs": [
    {
     "name": "stdout",
     "output_type": "stream",
     "text": [
      "Split ifadesi belirtilen ayraca göre metni ayırarak listeye dönüştürür\n",
      "['a', 'b', 'c', 'd']\n"
     ]
    }
   ],
   "source": [
    "metin = \"a,b,c,d\"\n",
    "print(\"Split ifadesi belirtilen ayraca göre metni ayırarak listeye dönüştürür\")\n",
    "liste = metin.split(\",\")\n",
    "print(liste)"
   ]
  },
  {
   "cell_type": "markdown",
   "metadata": {},
   "source": [
    "# Kümeler - Sets\n",
    "\n",
    "- Süslü parantez içerisinde, virgül ile ayrılmış elemanlardan oluşur\n",
    "- Index yoktur, sırasızdır\n",
    "- Küme elemanlarına pozisyonları ile ulaşılmaz\n",
    "- Küme içerisinde her eleman benzersizdir, aynı değerden 2 tane bulunmaz"
   ]
  },
  {
   "cell_type": "code",
   "execution_count": 38,
   "metadata": {},
   "outputs": [
    {
     "name": "stdout",
     "output_type": "stream",
     "text": [
      "Metni kümeye dönüştürme\n",
      "{'r', 'b', 'a', 'm', 'e', 'h'}\n"
     ]
    }
   ],
   "source": [
    "print(\"Metni kümeye dönüştürme\")\n",
    "kume = set(\"merhaba\")\n",
    "print(kume)"
   ]
  },
  {
   "cell_type": "code",
   "execution_count": 39,
   "metadata": {},
   "outputs": [
    {
     "data": {
      "text/plain": [
       "['__and__',\n",
       " '__class__',\n",
       " '__class_getitem__',\n",
       " '__contains__',\n",
       " '__delattr__',\n",
       " '__dir__',\n",
       " '__doc__',\n",
       " '__eq__',\n",
       " '__format__',\n",
       " '__ge__',\n",
       " '__getattribute__',\n",
       " '__gt__',\n",
       " '__hash__',\n",
       " '__iand__',\n",
       " '__init__',\n",
       " '__init_subclass__',\n",
       " '__ior__',\n",
       " '__isub__',\n",
       " '__iter__',\n",
       " '__ixor__',\n",
       " '__le__',\n",
       " '__len__',\n",
       " '__lt__',\n",
       " '__ne__',\n",
       " '__new__',\n",
       " '__or__',\n",
       " '__rand__',\n",
       " '__reduce__',\n",
       " '__reduce_ex__',\n",
       " '__repr__',\n",
       " '__ror__',\n",
       " '__rsub__',\n",
       " '__rxor__',\n",
       " '__setattr__',\n",
       " '__sizeof__',\n",
       " '__str__',\n",
       " '__sub__',\n",
       " '__subclasshook__',\n",
       " '__xor__',\n",
       " 'add',\n",
       " 'clear',\n",
       " 'copy',\n",
       " 'difference',\n",
       " 'difference_update',\n",
       " 'discard',\n",
       " 'intersection',\n",
       " 'intersection_update',\n",
       " 'isdisjoint',\n",
       " 'issubset',\n",
       " 'issuperset',\n",
       " 'pop',\n",
       " 'remove',\n",
       " 'symmetric_difference',\n",
       " 'symmetric_difference_update',\n",
       " 'union',\n",
       " 'update']"
      ]
     },
     "execution_count": 39,
     "metadata": {},
     "output_type": "execute_result"
    }
   ],
   "source": [
    "dir(kume)"
   ]
  },
  {
   "cell_type": "code",
   "execution_count": null,
   "metadata": {},
   "outputs": [],
   "source": []
  },
  {
   "cell_type": "code",
   "execution_count": 42,
   "metadata": {},
   "outputs": [
    {
     "name": "stdout",
     "output_type": "stream",
     "text": [
      "Kümeye eleman eklemek için add kullanılır\n",
      "{'b', 'a', 'e', 'c', 'd'}\n"
     ]
    }
   ],
   "source": [
    "kume = {\"a\",\"b\",\"c\",\"d\"}\n",
    "print(\"Kümeye eleman eklemek için add kullanılır\")\n",
    "kume.add(\"e\")\n",
    "print(kume)"
   ]
  },
  {
   "cell_type": "code",
   "execution_count": 46,
   "metadata": {},
   "outputs": [
    {
     "name": "stdout",
     "output_type": "stream",
     "text": [
      "Difference komutu iki kümedeki farklı değerleri gösterir\n",
      "{'a', 'b'}\n",
      "{'e', 'f'}\n"
     ]
    }
   ],
   "source": [
    "kume1 = {\"a\",\"b\",\"c\",\"d\"}\n",
    "kume2 = {\"c\",\"d\",\"e\",\"f\"}\n",
    "print(\"Difference komutu iki kümedeki farklı değerleri gösterir\")\n",
    "print(kume1.difference(kume2))\n",
    "kume2.difference_update(kume1)\n",
    "print(kume2)"
   ]
  },
  {
   "cell_type": "code",
   "execution_count": 47,
   "metadata": {},
   "outputs": [
    {
     "name": "stdout",
     "output_type": "stream",
     "text": [
      "Intersection komutu iki kümenin kesişimini\n"
     ]
    },
    {
     "data": {
      "text/plain": [
       "{'c', 'd'}"
      ]
     },
     "execution_count": 47,
     "metadata": {},
     "output_type": "execute_result"
    }
   ],
   "source": [
    "kume1 = {\"a\",\"b\",\"c\",\"d\"}\n",
    "kume2 = {\"c\",\"d\",\"e\",\"f\"}\n",
    "print(\"Intersection komutu iki kümenin kesişimini\")\n",
    "kume1.intersection(kume2)\n",
    "#kume1.intersection_update(kume2) --> sonucu kume1 kümesine aktarır"
   ]
  },
  {
   "cell_type": "code",
   "execution_count": 48,
   "metadata": {},
   "outputs": [
    {
     "name": "stdout",
     "output_type": "stream",
     "text": [
      "Union komutu iki kümenin birleşimini verir\n"
     ]
    },
    {
     "data": {
      "text/plain": [
       "{'a', 'b', 'c', 'd', 'e', 'f'}"
      ]
     },
     "execution_count": 48,
     "metadata": {},
     "output_type": "execute_result"
    }
   ],
   "source": [
    "kume1 = {\"a\",\"b\",\"c\",\"d\"}\n",
    "kume2 = {\"c\",\"d\",\"e\",\"f\"}\n",
    "print(\"Union komutu iki kümenin birleşimini verir\")\n",
    "kume1.union(kume2)\n",
    "# kume1.union_update(kume2) --> sonucu kume1 kümesine aktarır"
   ]
  },
  {
   "cell_type": "code",
   "execution_count": 51,
   "metadata": {},
   "outputs": [
    {
     "name": "stdout",
     "output_type": "stream",
     "text": [
      "Symetric_difference komutu iki kümenin birbirinden farklı elemanları verir\n"
     ]
    },
    {
     "data": {
      "text/plain": [
       "{'a', 'b', 'e', 'f'}"
      ]
     },
     "execution_count": 51,
     "metadata": {},
     "output_type": "execute_result"
    }
   ],
   "source": [
    "kume1 = {\"a\",\"b\",\"c\",\"d\"}\n",
    "kume2 = {\"c\",\"d\",\"e\",\"f\"}\n",
    "print(\"Symetric_difference komutu iki kümenin birbirinden farklı elemanları verir\")\n",
    "kume1.symmetric_difference(kume2)\n",
    "# kume1.symmetric_difference_update(kume2) --> sonucu kume1 kümesine aktarır"
   ]
  },
  {
   "cell_type": "code",
   "execution_count": 52,
   "metadata": {},
   "outputs": [
    {
     "name": "stdout",
     "output_type": "stream",
     "text": [
      "Remove komutu belirtilen öğeyi siler\n",
      "{'a', 'b', 'd'}\n"
     ]
    }
   ],
   "source": [
    "kume = {\"a\",\"b\",\"c\",\"d\"}\n",
    "print(\"Remove komutu belirtilen öğeyi siler\")\n",
    "kume.remove(\"c\")\n",
    "print(kume)"
   ]
  },
  {
   "cell_type": "code",
   "execution_count": 56,
   "metadata": {},
   "outputs": [
    {
     "name": "stdout",
     "output_type": "stream",
     "text": [
      "Pop komutu belirtilen kümenin son elemanını siler\n",
      "{'c', 'b', 'd'}\n"
     ]
    }
   ],
   "source": [
    "kume = {\"a\",\"b\",\"c\",\"d\"}\n",
    "print(\"Pop komutu belirtilen kümenin son elemanını siler\")\n",
    "kume.pop()\n",
    "print(kume)"
   ]
  },
  {
   "cell_type": "markdown",
   "metadata": {},
   "source": [
    "# Sözlükler - Dictionary (Dict)\n",
    "\n",
    "- Anahtar ve değer çiftlerinden oluşur \n",
    "- Süslü parantezler ile oluşturulur\n",
    "- Anahtar-değer çiftleri virgül ile ayrılır\n",
    "- Anahtar ve değer çiftleri arasında : bulunur\n",
    "- Sözlük elemanlarına doğrudan erişilebilir\n",
    "- Ekleme, silme gibi işlemler anahtar:değer çiftine birlikte uygulanır"
   ]
  },
  {
   "cell_type": "code",
   "execution_count": 57,
   "metadata": {},
   "outputs": [
    {
     "data": {
      "text/plain": [
       "dict"
      ]
     },
     "execution_count": 57,
     "metadata": {},
     "output_type": "execute_result"
    }
   ],
   "source": [
    "sozluk = {\"kitap\":\"book\", \"bilgisayar\":\"computer\", \"dil\":\"language\"}\n",
    "type(sozluk)"
   ]
  },
  {
   "cell_type": "code",
   "execution_count": 58,
   "metadata": {},
   "outputs": [
    {
     "data": {
      "text/plain": [
       "['__class__',\n",
       " '__class_getitem__',\n",
       " '__contains__',\n",
       " '__delattr__',\n",
       " '__delitem__',\n",
       " '__dir__',\n",
       " '__doc__',\n",
       " '__eq__',\n",
       " '__format__',\n",
       " '__ge__',\n",
       " '__getattribute__',\n",
       " '__getitem__',\n",
       " '__gt__',\n",
       " '__hash__',\n",
       " '__init__',\n",
       " '__init_subclass__',\n",
       " '__ior__',\n",
       " '__iter__',\n",
       " '__le__',\n",
       " '__len__',\n",
       " '__lt__',\n",
       " '__ne__',\n",
       " '__new__',\n",
       " '__or__',\n",
       " '__reduce__',\n",
       " '__reduce_ex__',\n",
       " '__repr__',\n",
       " '__reversed__',\n",
       " '__ror__',\n",
       " '__setattr__',\n",
       " '__setitem__',\n",
       " '__sizeof__',\n",
       " '__str__',\n",
       " '__subclasshook__',\n",
       " 'clear',\n",
       " 'copy',\n",
       " 'fromkeys',\n",
       " 'get',\n",
       " 'items',\n",
       " 'keys',\n",
       " 'pop',\n",
       " 'popitem',\n",
       " 'setdefault',\n",
       " 'update',\n",
       " 'values']"
      ]
     },
     "execution_count": 58,
     "metadata": {},
     "output_type": "execute_result"
    }
   ],
   "source": [
    "dir(sozluk)"
   ]
  },
  {
   "cell_type": "code",
   "execution_count": 59,
   "metadata": {},
   "outputs": [
    {
     "name": "stdout",
     "output_type": "stream",
     "text": [
      "keys ile sözlük anahtar değerleri demet olarak gelir\n",
      "dict_keys(['a', 'b', 'c'])\n"
     ]
    }
   ],
   "source": [
    "sozluk = {\"a\":1, \"b\":2,\"c\":3}\n",
    "print(\"keys ile sözlük anahtar değerleri demet olarak gelir\")\n",
    "print(sozluk.keys())"
   ]
  },
  {
   "cell_type": "code",
   "execution_count": 60,
   "metadata": {},
   "outputs": [
    {
     "name": "stdout",
     "output_type": "stream",
     "text": [
      "values ile sözlük değerleri demet olarak alabilirz\n",
      "dict_values([1, 2, 3])\n"
     ]
    }
   ],
   "source": [
    "sozluk = {\"a\":1, \"b\":2,\"c\":3}\n",
    "print(\"values ile sözlük değerleri demet olarak alabilirz\")\n",
    "print(sozluk.values())"
   ]
  },
  {
   "cell_type": "code",
   "execution_count": 61,
   "metadata": {},
   "outputs": [
    {
     "name": "stdout",
     "output_type": "stream",
     "text": [
      "items ile anahtar ve değer çiftlerini alabiliriz\n",
      "Sözlük öğesi - a = 1\n",
      "Sözlük öğesi - b = 2\n",
      "Sözlük öğesi - c = 3\n"
     ]
    }
   ],
   "source": [
    "sozluk = {\"a\":1, \"b\":2,\"c\":3}\n",
    "print(\"items ile anahtar ve değer çiftlerini alabiliriz\")\n",
    "for anahtar, deger in sozluk.items():\n",
    "    print((\"Sözlük öğesi - {} = {}\").format(anahtar,deger))"
   ]
  },
  {
   "cell_type": "code",
   "execution_count": 62,
   "metadata": {},
   "outputs": [
    {
     "name": "stdout",
     "output_type": "stream",
     "text": [
      "Sözlük değerini anahtar ile almak için\n",
      "1\n"
     ]
    }
   ],
   "source": [
    "sozluk = {\"a\":1, \"b\":2,\"c\":3}\n",
    "print(\"Sözlük değerini anahtar ile almak için\")\n",
    "print(sozluk['a'])"
   ]
  },
  {
   "cell_type": "code",
   "execution_count": 63,
   "metadata": {},
   "outputs": [
    {
     "name": "stdout",
     "output_type": "stream",
     "text": [
      "Clear ile sözlük verileri temizleriz\n",
      "None\n"
     ]
    }
   ],
   "source": [
    "sozluk = {\"a\":1, \"b\":2,\"c\":3}\n",
    "print(\"Clear ile sözlük verileri temizleriz\")\n",
    "print(sozluk.clear())"
   ]
  },
  {
   "cell_type": "code",
   "execution_count": 65,
   "metadata": {},
   "outputs": [
    {
     "name": "stdout",
     "output_type": "stream",
     "text": [
      "Pop ile anahtar değeri verilen çift silinir\n",
      "2\n",
      "{'a': 1, 'c': 3}\n"
     ]
    }
   ],
   "source": [
    "sozluk = {\"a\":1, \"b\":2,\"c\":3}\n",
    "print(\"Pop ile anahtar değeri verilen çift silinir\")\n",
    "print(sozluk.pop(\"b\"))\n",
    "print(sozluk)"
   ]
  },
  {
   "cell_type": "code",
   "execution_count": 66,
   "metadata": {},
   "outputs": [
    {
     "name": "stdout",
     "output_type": "stream",
     "text": [
      "Popitem ile sözlük içerisindeki son veri çifti silir\n",
      "{'a': 1, 'b': 2}\n"
     ]
    }
   ],
   "source": [
    "sozluk = {\"a\":1, \"b\":2,\"c\":3}\n",
    "print(\"Popitem ile sözlük içerisindeki son veri çifti silir\")\n",
    "sozluk.popitem()\n",
    "print(sozluk)"
   ]
  },
  {
   "cell_type": "code",
   "execution_count": 69,
   "metadata": {},
   "outputs": [
    {
     "name": "stdout",
     "output_type": "stream",
     "text": [
      "[1, 2, 3, 4]\n",
      "2\n",
      "d\n"
     ]
    }
   ],
   "source": [
    "# iç içe liste ve demet kullanımı\n",
    "\n",
    "demet = (1,\"a\",\"b\",2, [1,2,3,4],([\"c\",\"d\"],(\"e\",\"f\")))\n",
    "print(demet[4])\n",
    "print(demet[4][1])\n",
    "print(demet[5][0][1])"
   ]
  },
  {
   "cell_type": "code",
   "execution_count": 71,
   "metadata": {},
   "outputs": [
    {
     "name": "stdout",
     "output_type": "stream",
     "text": [
      "Lütfen anlamını öğrenmek istediğiniz kelimeyi yazınfare\n",
      "mouse\n"
     ]
    }
   ],
   "source": [
    "ingSozluk = {\"dil\":\"language\",\"bilgisayar\":\"computer\",\"masa\":\"table\",\"fare\":\"mouse\"}\n",
    "sorgu = input(\"Lütfen anlamını öğrenmek istediğiniz kelimeyi yazın\")\n",
    "print(ingSozluk.get(sorgu,\"Bu kelime bulunamadı\"))"
   ]
  },
  {
   "cell_type": "code",
   "execution_count": 73,
   "metadata": {},
   "outputs": [
    {
     "name": "stdout",
     "output_type": "stream",
     "text": [
      "Onur\n",
      "Yasin\n",
      "Ahmet\n"
     ]
    }
   ],
   "source": [
    "kisiler = {\n",
    "    1 : {\"Adi\":\"Onur\", \"Meslek\":\"Eğitimci\"},\n",
    "    2 : {\"Adi\":\"Yasin\", \"Meslek\":\"Eğitimci\"},\n",
    "    3 : {\"Adi\":\"Ahmet\", \"Meslek\": \"Öğrenci\"}\n",
    "}\n",
    "for i in range(1,4):\n",
    "    print(kisiler[i][\"Adi\"])"
   ]
  },
  {
   "cell_type": "code",
   "execution_count": 74,
   "metadata": {},
   "outputs": [
    {
     "name": "stdout",
     "output_type": "stream",
     "text": [
      "1\n",
      "2\n",
      "3\n"
     ]
    }
   ],
   "source": [
    "kisiler = {\n",
    "    1 : {\"Adi\":\"Onur\", \"Meslek\":\"Eğitimci\"},\n",
    "    2 : {\"Adi\":\"Yasin\", \"Meslek\":\"Eğitimci\"},\n",
    "    3 : {\"Adi\":\"Ahmet\", \"Meslek\": \"Öğrenci\"}\n",
    "}\n",
    "for i in kisiler:\n",
    "    print(i)"
   ]
  },
  {
   "cell_type": "code",
   "execution_count": 75,
   "metadata": {},
   "outputs": [
    {
     "name": "stdout",
     "output_type": "stream",
     "text": [
      "Onur\n",
      "Yasin\n"
     ]
    }
   ],
   "source": [
    "kisiler = {\n",
    "    1 : {\"Adi\":\"Onur\", \"Meslek\":\"Eğitimci\"},\n",
    "    2 : {\"Adi\":\"Yasin\", \"Meslek\":\"Eğitimci\"},\n",
    "    3 : {\"Adi\":\"Ahmet\", \"Meslek\": \"Öğrenci\"}\n",
    "}\n",
    "for i in range(1,4):\n",
    "    if kisiler[i][\"Meslek\"]==\"Eğitimci\":\n",
    "        print(kisiler[i][\"Adi\"])"
   ]
  },
  {
   "cell_type": "markdown",
   "metadata": {},
   "source": [
    "# Python Kütüphaneleri\n",
    "\n",
    "math  -- Matematik Kütüphanesi\n",
    "datetime  -- Tarih saat işlemleri kütüphanesi\n",
    "random -- rastgele sayı kütüphanesi\n",
    "sqlite -- SQLite veritabanı kütüphanesi\n",
    "os --- İşletim sistemi ile ilgili işlemler kütüphanesi\n",
    "time -- zaman kütüphanesi\n",
    "sys -- Sistem ile ilgili işlemleri\n",
    "turttle -- Çizim kütüphanesi\n",
    "numpy -- veri yapıları, diziler ve matrisler\n",
    "pandas -- İlişkili verileri işlemek için kullanılan kütüphane\n",
    "tensorflow -- Makine öğrenme kütüphanesi\n",
    "pyqt -- Grafik arayüz kütüphanesi\n",
    "pygame -- 2D oyun kütüphanesi\n",
    "pyglet -- 3D oyun kütüphanesi\n",
    "flask  -- microblog kodlama kütüphanesi\n",
    "django -- mvc destekli web programlama kütüphanesi\n",
    "selenium -- web sitesi üzerinde işlem yapma ve veri çekme için yararlı bir kütüphane (bot oluşturma)\n",
    "scapy -- Network işlemleri kütüphanesi\n",
    "\n",
    "\n",
    "Kurulması gerekmeyen dahili kütüphaneler\n",
    "math\n",
    "random\n",
    "datetime\n",
    "time\n",
    "sqlite\n",
    "os\n",
    "json\n",
    "sys\n"
   ]
  },
  {
   "cell_type": "code",
   "execution_count": 76,
   "metadata": {},
   "outputs": [
    {
     "name": "stdout",
     "output_type": "stream",
     "text": [
      "Yukarı yuvarlama\n",
      "33\n"
     ]
    }
   ],
   "source": [
    "# Math Kütüphanesi\n",
    "import math\n",
    "print(\"Yukarı yuvarlama\")\n",
    "print(math.ceil(32.10))"
   ]
  },
  {
   "cell_type": "code",
   "execution_count": 77,
   "metadata": {},
   "outputs": [
    {
     "name": "stdout",
     "output_type": "stream",
     "text": [
      "Mutlak değeri verir\n",
      "28.0\n"
     ]
    }
   ],
   "source": [
    "import math\n",
    "print(\"Mutlak değeri verir\")\n",
    "print(math.fabs(-28))"
   ]
  },
  {
   "cell_type": "code",
   "execution_count": 78,
   "metadata": {},
   "outputs": [
    {
     "name": "stdout",
     "output_type": "stream",
     "text": [
      "Faktöriyel hesaplama\n",
      "120\n"
     ]
    }
   ],
   "source": [
    "import math\n",
    "print(\"Faktöriyel hesaplama\")\n",
    "print(math.factorial(5))"
   ]
  },
  {
   "cell_type": "code",
   "execution_count": 79,
   "metadata": {},
   "outputs": [
    {
     "name": "stdout",
     "output_type": "stream",
     "text": [
      "Aşağı yuvarlama\n",
      "32\n"
     ]
    }
   ],
   "source": [
    "import math\n",
    "print(\"Aşağı yuvarlama\")\n",
    "print(math.floor(32.10))"
   ]
  },
  {
   "cell_type": "code",
   "execution_count": 80,
   "metadata": {},
   "outputs": [
    {
     "name": "stdout",
     "output_type": "stream",
     "text": [
      "İki sayının EBOB değeri\n",
      "5\n"
     ]
    }
   ],
   "source": [
    "import math\n",
    "print(\"İki sayının EBOB değeri\")\n",
    "print(math.gcd(45,70))"
   ]
  },
  {
   "cell_type": "code",
   "execution_count": 81,
   "metadata": {},
   "outputs": [
    {
     "name": "stdout",
     "output_type": "stream",
     "text": [
      "Tam sayıya dönüştürme\n",
      "32\n"
     ]
    }
   ],
   "source": [
    "import math\n",
    "print(\"Tam sayıya dönüştürme\")\n",
    "print(math.trunc(32.10))"
   ]
  },
  {
   "cell_type": "code",
   "execution_count": 82,
   "metadata": {},
   "outputs": [
    {
     "name": "stdout",
     "output_type": "stream",
     "text": [
      "Logaritma işlemi\n",
      "2.0\n"
     ]
    }
   ],
   "source": [
    "import math\n",
    "print(\"Logaritma işlemi\")\n",
    "print(math.log(25,5))"
   ]
  },
  {
   "cell_type": "code",
   "execution_count": 83,
   "metadata": {},
   "outputs": [
    {
     "name": "stdout",
     "output_type": "stream",
     "text": [
      "Üst hesaplama\n",
      "32.0\n"
     ]
    }
   ],
   "source": [
    "import math\n",
    "print(\"Üst hesaplama\")\n",
    "print(math.pow(2,5))  # 2^5\n"
   ]
  },
  {
   "cell_type": "code",
   "execution_count": 84,
   "metadata": {},
   "outputs": [
    {
     "name": "stdout",
     "output_type": "stream",
     "text": [
      "Karekök alma\n",
      "4.0\n"
     ]
    }
   ],
   "source": [
    "import math\n",
    "print(\"Karekök alma\")\n",
    "print(math.sqrt(16))"
   ]
  },
  {
   "cell_type": "code",
   "execution_count": 85,
   "metadata": {},
   "outputs": [
    {
     "name": "stdout",
     "output_type": "stream",
     "text": [
      "0.23541356979011785\n"
     ]
    }
   ],
   "source": [
    "# Random kütüphanesi\n",
    "import random\n",
    "print(\"0.0 ile 1.0 aralığında değer üretir\")\n",
    "print(random.random())"
   ]
  },
  {
   "cell_type": "code",
   "execution_count": 86,
   "metadata": {},
   "outputs": [
    {
     "name": "stdout",
     "output_type": "stream",
     "text": [
      "belirtilen aralıkta değer üretir\n",
      "0.8002104989904795\n"
     ]
    }
   ],
   "source": [
    "import random\n",
    "print(\"belirtilen aralıkta değer üretir\")\n",
    "print(random.uniform(0.5,1.5))"
   ]
  },
  {
   "cell_type": "code",
   "execution_count": 90,
   "metadata": {},
   "outputs": [
    {
     "name": "stdout",
     "output_type": "stream",
     "text": [
      "Belirtilen aralıkta tam sayı değeri üretir\n",
      "39\n"
     ]
    }
   ],
   "source": [
    "import random\n",
    "print(\"Belirtilen aralıkta tam sayı değeri üretir\")\n",
    "print(random.randint(10,90))"
   ]
  },
  {
   "cell_type": "code",
   "execution_count": 91,
   "metadata": {},
   "outputs": [
    {
     "name": "stdout",
     "output_type": "stream",
     "text": [
      "Listeden rastgele değer seçer\n",
      "c\n"
     ]
    }
   ],
   "source": [
    "import random\n",
    "print(\"Listeden rastgele değer seçer\")\n",
    "liste = [\"a\",\"b\",\"c\",\"d\",\"e\",\"f\",\"g\"]\n",
    "print(random.choice(liste))"
   ]
  },
  {
   "cell_type": "code",
   "execution_count": 92,
   "metadata": {},
   "outputs": [
    {
     "name": "stdout",
     "output_type": "stream",
     "text": [
      "Lütfen 1. tahmininizi girin (1-100): 50\n",
      "Lütfen daha büyük bir sayı deneyin\n",
      "Lütfen 2. tahmininizi girin (1-100): 80\n",
      "Lütfen daha küçük bir sayı deneyin\n",
      "Lütfen 3. tahmininizi girin (1-100): 70\n",
      "Lütfen daha büyük bir sayı deneyin\n",
      "Lütfen 4. tahmininizi girin (1-100): 75\n",
      "Lütfen daha küçük bir sayı deneyin\n",
      "Lütfen 5. tahmininizi girin (1-100): 73\n",
      "Lütfen daha küçük bir sayı deneyin\n",
      "Lütfen 6. tahmininizi girin (1-100): 72\n",
      "Tebrikler 6  seferde tahmin ettiniz\n"
     ]
    }
   ],
   "source": [
    "import random\n",
    "\n",
    "tahminEdilecekSayi= random.randint(1,100)\n",
    "tahminHakki = 10\n",
    "tahminSayisi = 0\n",
    "tahminDurumu = False\n",
    "\n",
    "while tahminSayisi <= tahminHakki:\n",
    "    tahminSayisi+=1\n",
    "    tahmin = int(input(\"Lütfen {}. tahmininizi girin (1-100): \".format(tahminSayisi)))\n",
    "    if tahminEdilecekSayi == tahmin:\n",
    "        print(\"Tebrikler\", tahminSayisi,\" seferde tahmin ettiniz\")\n",
    "        tahminDurumu = True\n",
    "        break\n",
    "    elif tahmin < tahminEdilecekSayi:\n",
    "        print(\"Lütfen daha büyük bir sayı deneyin\")\n",
    "    elif tahmin > tahminEdilecekSayi:\n",
    "        print(\"Lütfen daha küçük bir sayı deneyin\")\n",
    "\n",
    "if tahminDurumu == False:\n",
    "    print(\"10 hakkınızda bilemediniz, tekrar deneyin\")\n"
   ]
  },
  {
   "cell_type": "code",
   "execution_count": 93,
   "metadata": {},
   "outputs": [],
   "source": [
    "# Turtle Kütüp0hanesi\n",
    "import turtle\n",
    "cizim = turtle.Turtle()\n",
    "cizim.circle(50)\n",
    "turtle.mainloop()"
   ]
  },
  {
   "cell_type": "code",
   "execution_count": 1,
   "metadata": {},
   "outputs": [],
   "source": [
    "import turtle\n",
    "cember = turtle.Turtle()\n",
    "cember.penup()\n",
    "cember.setposition(-100,0)\n",
    "cember.pendown()\n",
    "cember.circle(50)\n",
    "cember.penup()\n",
    "cember.setposition(100,0)\n",
    "cember.pendown()\n",
    "cember.circle(50)\n",
    "turtle.mainloop()"
   ]
  },
  {
   "cell_type": "code",
   "execution_count": 1,
   "metadata": {},
   "outputs": [],
   "source": [
    "import turtle\n",
    "cizim = turtle.Pen()\n",
    "cizim.fd(100)\n",
    "cizim.left(90)\n",
    "cizim.fd(50)\n",
    "cizim.left(90)\n",
    "cizim.fd(100)\n",
    "cizim.left(90)\n",
    "cizim.fd(50)\n",
    "cizim.left(90)\n",
    "turtle.mainloop()\n",
    "\n",
    "# Ödev for ile bu kodları kısaltalım\n"
   ]
  },
  {
   "cell_type": "code",
   "execution_count": 2,
   "metadata": {},
   "outputs": [],
   "source": [
    "import turtle\n",
    "cizim = turtle.Turtle()\n",
    "renkler = [\"red\",\"blue\",\"orange\",\"black\",\"pink\",\"purple\",\"yellow\"]\n",
    "sayi = 0\n",
    "for i in range(1,100):\n",
    "    renk = renkler[sayi]\n",
    "    cizim.pencolor(renk)\n",
    "    cizim.forward(250) #cizimfd(250)\n",
    "    cizim.left(123)\n",
    "    sayi+=1\n",
    "    if sayi >6:\n",
    "        sayi=0\n",
    "\n",
    "turtle.mainloop()"
   ]
  },
  {
   "cell_type": "code",
   "execution_count": null,
   "metadata": {},
   "outputs": [],
   "source": []
  }
 ],
 "metadata": {
  "kernelspec": {
   "display_name": "Python 3",
   "language": "python",
   "name": "python3"
  },
  "language_info": {
   "codemirror_mode": {
    "name": "ipython",
    "version": 3
   },
   "file_extension": ".py",
   "mimetype": "text/x-python",
   "name": "python",
   "nbconvert_exporter": "python",
   "pygments_lexer": "ipython3",
   "version": "3.9.0"
  }
 },
 "nbformat": 4,
 "nbformat_minor": 4
}
